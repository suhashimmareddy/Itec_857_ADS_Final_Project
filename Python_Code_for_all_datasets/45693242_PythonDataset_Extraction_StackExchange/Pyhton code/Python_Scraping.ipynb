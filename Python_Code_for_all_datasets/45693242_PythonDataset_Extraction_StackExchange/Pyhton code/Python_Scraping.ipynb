{
 "cells": [
  {
   "cell_type": "code",
   "execution_count": 1,
   "metadata": {},
   "outputs": [
    {
     "data": {
      "text/plain": [
       "'C:\\\\Users\\\\suhas\\\\Desktop\\\\ADS Python'"
      ]
     },
     "execution_count": 1,
     "metadata": {},
     "output_type": "execute_result"
    }
   ],
   "source": [
    "import os\n",
    "os.getcwd()"
   ]
  },
  {
   "cell_type": "code",
   "execution_count": 2,
   "metadata": {},
   "outputs": [],
   "source": [
    "import bs4 #beautiful soup package"
   ]
  },
  {
   "cell_type": "code",
   "execution_count": 3,
   "metadata": {},
   "outputs": [],
   "source": [
    "from urllib.request import urlopen as ureq\n",
    "from bs4 import BeautifulSoup as Soup"
   ]
  },
  {
   "cell_type": "code",
   "execution_count": 5,
   "metadata": {},
   "outputs": [],
   "source": [
    "import pandas as pd\n",
    "tag_count = []"
   ]
  },
  {
   "cell_type": "code",
   "execution_count": 7,
   "metadata": {},
   "outputs": [],
   "source": [
    "def suhash(suh):\n",
    "    f = open(\"Python_Ques.txt\", \"a+\", encoding = \"utf-8\")\n",
    "    for c in suh:\n",
    "        question_summary = c.a.text\n",
    "        tags = []\n",
    "        question_tags = c.findAll(\"div\", {\"class\":\"tags\"})\n",
    "        tagies = question_tags[0].findAll(\"a\")\n",
    "        tag_count.append(len(tagies))\n",
    "        for i in range(0,len(tagies)):\n",
    "            tags.append(tagies[i].text)\n",
    "            f.write(\"__label__\"+tags[i]+\" \")\n",
    "        f.write(question_summary+\"\\n\")\n",
    "    f.close()"
   ]
  },
  {
   "cell_type": "code",
   "execution_count": 8,
   "metadata": {},
   "outputs": [],
   "source": [
    "def suhash11(i):\n",
    "    my_url = \"https://stackoverflow.com/questions/tagged/python?tab=newest&page=\"+str(i)+\"&pagesize=50\"\n",
    "    uclient = ureq(my_url) # opens up the connection grabs the web page and stores in a variable\n",
    "    page_html = uclient.read()\n",
    "    uclient.close()\n",
    "    page_soup = Soup(page_html, \"html.parser\")\n",
    "    containers = page_soup.findAll(\"div\", {\"class\":\"question-summary\"})\n",
    "    suh = containers[0:50]\n",
    "    suhash(suh)"
   ]
  },
  {
   "cell_type": "code",
   "execution_count": null,
   "metadata": {},
   "outputs": [],
   "source": [
    "### ---------------------------\n",
    "import time # i can do this way but  i will be doing step by step for every 200 pages\n",
    "for i in range(1,1200):\n",
    "    suhash11(i)\n",
    "    if ((i%200)==0):\n",
    "        time.sleep(60)  # for every 200 web pages takes a min break, if getting error for accesing increase the sleep to 5min\n",
    "len(tag_count)\n",
    "### ---------------------------"
   ]
  },
  {
   "cell_type": "markdown",
   "metadata": {},
   "source": [
    "### Website does not allow to scrape the data so if we loop through each page at a fast rate it will block us from downloading \n",
    "### To avoid blocking i can use time.sleep for 60 sec after every 200 pages scraped\n",
    "### so i will be looping through 200 pages at a time and look at no of records parsed and take a min break and run from where it is left and appending the result back \n",
    "### I can directly loop through 1200 pages as shown above but i will be doing as mentioned below to verify at each stage\n",
    "### so, this way i can verify that there is nothing going wrong when downloading data"
   ]
  },
  {
   "cell_type": "code",
   "execution_count": 9,
   "metadata": {},
   "outputs": [
    {
     "data": {
      "text/plain": [
       "9950"
      ]
     },
     "execution_count": 9,
     "metadata": {},
     "output_type": "execute_result"
    }
   ],
   "source": [
    "#Downloading 9,950 Questions\n",
    "for i in range(1,200):\n",
    "    suhash11(i)\n",
    "len(tag_count)"
   ]
  },
  {
   "cell_type": "markdown",
   "metadata": {},
   "source": [
    "### skipped 200 page and some othe in future as i want to keep that as buffer because the page quite often gets updated with the questions as the python is intresting topic.\n",
    "### so even the new data is added since i am skipping one page with 50 questions in it it would not affect so that all the questions will be unique. Which is good for analysis"
   ]
  },
  {
   "cell_type": "code",
   "execution_count": 10,
   "metadata": {},
   "outputs": [
    {
     "data": {
      "text/plain": [
       "19950"
      ]
     },
     "execution_count": 10,
     "metadata": {},
     "output_type": "execute_result"
    }
   ],
   "source": [
    "# downloading 10k Questions\n",
    "for i in range(201,401):\n",
    "    suhash11(i)\n",
    "len(tag_count)"
   ]
  },
  {
   "cell_type": "markdown",
   "metadata": {},
   "source": [
    "### Skipped 401 page"
   ]
  },
  {
   "cell_type": "code",
   "execution_count": 11,
   "metadata": {},
   "outputs": [
    {
     "data": {
      "text/plain": [
       "29950"
      ]
     },
     "execution_count": 11,
     "metadata": {},
     "output_type": "execute_result"
    }
   ],
   "source": [
    "for i in range(402,602):\n",
    "    suhash11(i)\n",
    "len(tag_count)"
   ]
  },
  {
   "cell_type": "markdown",
   "metadata": {},
   "source": [
    "### Skipped 602 page"
   ]
  },
  {
   "cell_type": "code",
   "execution_count": 12,
   "metadata": {},
   "outputs": [
    {
     "data": {
      "text/plain": [
       "40000"
      ]
     },
     "execution_count": 12,
     "metadata": {},
     "output_type": "execute_result"
    }
   ],
   "source": [
    "for i in range(603,804):\n",
    "    suhash11(i)\n",
    "len(tag_count)"
   ]
  },
  {
   "cell_type": "markdown",
   "metadata": {},
   "source": [
    "### Skipped 804 page"
   ]
  },
  {
   "cell_type": "code",
   "execution_count": 13,
   "metadata": {},
   "outputs": [
    {
     "data": {
      "text/plain": [
       "51000"
      ]
     },
     "execution_count": 13,
     "metadata": {},
     "output_type": "execute_result"
    }
   ],
   "source": [
    "for i in range(805,1025):\n",
    "    suhash11(i)\n",
    "len(tag_count)"
   ]
  },
  {
   "cell_type": "code",
   "execution_count": 14,
   "metadata": {},
   "outputs": [
    {
     "name": "stdout",
     "output_type": "stream",
     "text": [
      "       count\n",
      "0          3\n",
      "1          2\n",
      "2          3\n",
      "3          3\n",
      "4          3\n",
      "5          4\n",
      "6          5\n",
      "7          2\n",
      "8          3\n",
      "9          5\n",
      "10         2\n",
      "11         3\n",
      "12         3\n",
      "13         3\n",
      "14         2\n",
      "15         5\n",
      "16         5\n",
      "17         2\n",
      "18         3\n",
      "19         2\n",
      "20         5\n",
      "21         3\n",
      "22         5\n",
      "23         5\n",
      "24         2\n",
      "25         4\n",
      "26         2\n",
      "27         4\n",
      "28         4\n",
      "29         3\n",
      "...      ...\n",
      "50970      4\n",
      "50971      5\n",
      "50972      4\n",
      "50973      4\n",
      "50974      3\n",
      "50975      3\n",
      "50976      3\n",
      "50977      3\n",
      "50978      3\n",
      "50979      2\n",
      "50980      1\n",
      "50981      3\n",
      "50982      3\n",
      "50983      3\n",
      "50984      4\n",
      "50985      3\n",
      "50986      2\n",
      "50987      3\n",
      "50988      3\n",
      "50989      2\n",
      "50990      3\n",
      "50991      5\n",
      "50992      2\n",
      "50993      3\n",
      "50994      3\n",
      "50995      1\n",
      "50996      2\n",
      "50997      3\n",
      "50998      2\n",
      "50999      4\n",
      "\n",
      "[51000 rows x 1 columns]\n"
     ]
    }
   ],
   "source": [
    "Python_Ques = pd.DataFrame()\n",
    "Python_Ques[\"count\"] = pd.Series(tag_count)\n",
    "print(Python_Ques)"
   ]
  },
  {
   "cell_type": "code",
   "execution_count": 21,
   "metadata": {},
   "outputs": [
    {
     "data": {
      "text/plain": [
       "<matplotlib.legend.Legend at 0x1b137f59b00>"
      ]
     },
     "execution_count": 21,
     "metadata": {},
     "output_type": "execute_result"
    },
    {
     "data": {
      "image/png": "[encoded data removed]",
      "text/plain": [
       "<Figure size 720x360 with 1 Axes>"
      ]
     },
     "metadata": {
      "needs_background": "light"
     },
     "output_type": "display_data"
    }
   ],
   "source": [
    "from matplotlib import pyplot as plt\n",
    "plt.figure(figsize=(10, 5))\n",
    "Python_Ques['count'].value_counts().plot(kind='bar', label = \"No of Labels\")\n",
    "plt.title(\"Total no of Labels of each type for Python_Ques\")\n",
    "plt.legend()"
   ]
  },
  {
   "cell_type": "code",
   "execution_count": null,
   "metadata": {},
   "outputs": [],
   "source": []
  }
 ],
 "metadata": {
  "kernelspec": {
   "display_name": "Python 3",
   "language": "python",
   "name": "python3"
  },
  "language_info": {
   "codemirror_mode": {
    "name": "ipython",
    "version": 3
   },
   "file_extension": ".py",
   "mimetype": "text/x-python",
   "name": "python",
   "nbconvert_exporter": "python",
   "pygments_lexer": "ipython3",
   "version": "3.7.3"
  }
 },
 "nbformat": 4,
 "nbformat_minor": 2
}
