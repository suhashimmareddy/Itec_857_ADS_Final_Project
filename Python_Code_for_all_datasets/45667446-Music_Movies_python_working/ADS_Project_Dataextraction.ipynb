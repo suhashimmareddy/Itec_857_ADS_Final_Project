{
 "cells": [
  {
   "cell_type": "code",
   "execution_count": 31,
   "metadata": {},
   "outputs": [],
   "source": [
    "import bs4\n",
    "import time"
   ]
  },
  {
   "cell_type": "code",
   "execution_count": 57,
   "metadata": {},
   "outputs": [],
   "source": [
    "from urllib.request import urlopen as ureq\n",
    "from bs4 import BeautifulSoup as Soup\n",
    "import matplotlib.pyplot as plt"
   ]
  },
  {
   "cell_type": "code",
   "execution_count": 37,
   "metadata": {},
   "outputs": [],
   "source": [
    "import pandas as pd\n",
    "suhashx = pd.DataFrame()\n",
    "tag_count = []"
   ]
  },
  {
   "cell_type": "code",
   "execution_count": 43,
   "metadata": {},
   "outputs": [],
   "source": [
    "def suhash(suh):\n",
    "    f = open(\"Music_Movies.txt\", \"a+\", encoding = \"utf-8\")\n",
    "    for c in suh:\n",
    "        question_summary = c.a.text\n",
    "        tags = []\n",
    "        question_tags = c.findAll(\"div\", {\"class\":\"tags\"})\n",
    "        tagies = question_tags[0].findAll(\"a\")\n",
    "        tag_count.append(len(tagies))\n",
    "        for i in range(0,len(tagies)):\n",
    "            tags.append(tagies[i].text)\n",
    "            f.write(\"__label__\"+tags[i]+\" \")\n",
    "        f.write(question_summary+\"\\n\")\n",
    "    f.close()"
   ]
  },
  {
   "cell_type": "code",
   "execution_count": 39,
   "metadata": {},
   "outputs": [],
   "source": [
    "def suhash11(i):\n",
    "    my_url = \"https://movies.stackexchange.com/questions?tab=newest&page=\"+str(i)+\"&pagesize=50\"\n",
    "    uclient = ureq(my_url) # opens up the connection grabs the web page and stores in a variable\n",
    "    page_html = uclient.read()\n",
    "    uclient.close()\n",
    "    page_soup = Soup(page_html, \"html.parser\")\n",
    "    containers = page_soup.findAll(\"div\", {\"class\":\"question-summary\"})\n",
    "    suh = containers[0:50]\n",
    "    suhash(suh)"
   ]
  },
  {
   "cell_type": "code",
   "execution_count": 40,
   "metadata": {},
   "outputs": [],
   "source": [
    "def suhash22(i):\n",
    "    my_url = \"https://music.stackexchange.com/questions?tab=newest&page=\"+str(i)+\"&pagesize=50\"\n",
    "    uclient = ureq(my_url) # opens up the connection grabs the web page and stores in a variable\n",
    "    page_html = uclient.read()\n",
    "    uclient.close()\n",
    "    page_soup = Soup(page_html, \"html.parser\")\n",
    "    containers = page_soup.findAll(\"div\", {\"class\":\"question-summary\"})\n",
    "    suh = containers[0:50]\n",
    "    suhash(suh)"
   ]
  },
  {
   "cell_type": "code",
   "execution_count": 41,
   "metadata": {},
   "outputs": [
    {
     "data": {
      "text/plain": [
       "362"
      ]
     },
     "execution_count": 41,
     "metadata": {},
     "output_type": "execute_result"
    }
   ],
   "source": [
    "362"
   ]
  },
  {
   "cell_type": "code",
   "execution_count": 44,
   "metadata": {},
   "outputs": [],
   "source": [
    "for i in range(1,200):\n",
    "    suhash11(i)\n",
    "   "
   ]
  },
  {
   "cell_type": "code",
   "execution_count": 46,
   "metadata": {},
   "outputs": [],
   "source": [
    "for i in range(200,361):\n",
    "    suhash11(i)"
   ]
  },
  {
   "cell_type": "code",
   "execution_count": 48,
   "metadata": {},
   "outputs": [],
   "source": [
    "for i in range(1,200):\n",
    "    suhash22(i)\n",
    "   "
   ]
  },
  {
   "cell_type": "code",
   "execution_count": 50,
   "metadata": {},
   "outputs": [],
   "source": [
    "for i in range(200,341):\n",
    "    suhash22(i)"
   ]
  },
  {
   "cell_type": "code",
   "execution_count": 69,
   "metadata": {},
   "outputs": [
    {
     "data": {
      "text/plain": [
       "35000"
      ]
     },
     "execution_count": 69,
     "metadata": {},
     "output_type": "execute_result"
    }
   ],
   "source": [
    "len(tag_count)"
   ]
  },
  {
   "cell_type": "code",
   "execution_count": 47,
   "metadata": {},
   "outputs": [
    {
     "data": {
      "text/plain": [
       "18000"
      ]
     },
     "execution_count": 47,
     "metadata": {},
     "output_type": "execute_result"
    }
   ],
   "source": [
    "len(tag_count)"
   ]
  },
  {
   "cell_type": "code",
   "execution_count": 49,
   "metadata": {},
   "outputs": [
    {
     "data": {
      "text/plain": [
       "27950"
      ]
     },
     "execution_count": 49,
     "metadata": {},
     "output_type": "execute_result"
    }
   ],
   "source": [
    "len(tag_count)"
   ]
  },
  {
   "cell_type": "code",
   "execution_count": 51,
   "metadata": {},
   "outputs": [
    {
     "data": {
      "text/plain": [
       "35000"
      ]
     },
     "execution_count": 51,
     "metadata": {},
     "output_type": "execute_result"
    }
   ],
   "source": [
    "len(tag_count)"
   ]
  },
  {
   "cell_type": "code",
   "execution_count": 63,
   "metadata": {},
   "outputs": [],
   "source": [
    "suhashx[\"count\"] = pd.Series(tag_count)"
   ]
  },
  {
   "cell_type": "code",
   "execution_count": 68,
   "metadata": {},
   "outputs": [
    {
     "data": {
      "text/plain": [
       "<matplotlib.legend.Legend at 0x27acbefc7f0>"
      ]
     },
     "execution_count": 68,
     "metadata": {},
     "output_type": "execute_result"
    },
    {
     "data": {
      "image/png": "[encoded data removed]",
      "text/plain": [
       "<Figure size 432x288 with 1 Axes>"
      ]
     },
     "metadata": {
      "needs_background": "light"
     },
     "output_type": "display_data"
    }
   ],
   "source": [
    "suhashx['count'].value_counts().plot(kind='bar') \n",
    "plt.title(\"Music&Movies Tag Counts\")\n",
    "plt.xlabel('No of labels')\n",
    "plt.ylabel('count of labels')\n",
    "plt.legend(['Tags'], loc='best')"
   ]
  },
  {
   "cell_type": "code",
   "execution_count": 53,
   "metadata": {},
   "outputs": [
    {
     "name": "stderr",
     "output_type": "stream",
     "text": [
      "b'Skipping line 15: expected 1 fields, saw 2\\nSkipping line 25: expected 1 fields, saw 2\\nSkipping line 38: expected 1 fields, saw 4\\nSkipping line 39: expected 1 fields, saw 2\\nSkipping line 60: expected 1 fields, saw 2\\nSkipping line 74: expected 1 fields, saw 2\\nSkipping line 101: expected 1 fields, saw 2\\nSkipping line 123: expected 1 fields, saw 2\\nSkipping line 132: expected 1 fields, saw 2\\nSkipping line 133: expected 1 fields, saw 2\\nSkipping line 147: expected 1 fields, saw 2\\nSkipping line 148: expected 1 fields, saw 2\\nSkipping line 164: expected 1 fields, saw 2\\nSkipping line 172: expected 1 fields, saw 2\\nSkipping line 190: expected 1 fields, saw 2\\nSkipping line 209: expected 1 fields, saw 2\\nSkipping line 210: expected 1 fields, saw 2\\nSkipping line 213: expected 1 fields, saw 2\\nSkipping line 214: expected 1 fields, saw 3\\nSkipping line 222: expected 1 fields, saw 2\\nSkipping line 250: expected 1 fields, saw 3\\nSkipping line 263: expected 1 fields, saw 2\\nSkipping line 283: expected 1 fields, saw 2\\nSkipping line 304: expected 1 fields, saw 3\\nSkipping line 319: expected 1 fields, saw 3\\nSkipping line 320: expected 1 fields, saw 2\\nSkipping line 347: expected 1 fields, saw 2\\nSkipping line 361: expected 1 fields, saw 2\\nSkipping line 374: expected 1 fields, saw 2\\nSkipping line 391: expected 1 fields, saw 2\\nSkipping line 392: expected 1 fields, saw 2\\nSkipping line 393: expected 1 fields, saw 2\\nSkipping line 404: expected 1 fields, saw 3\\nSkipping line 410: expected 1 fields, saw 2\\nSkipping line 413: expected 1 fields, saw 2\\nSkipping line 419: expected 1 fields, saw 3\\nSkipping line 447: expected 1 fields, saw 2\\nSkipping line 471: expected 1 fields, saw 3\\nSkipping line 537: expected 1 fields, saw 2\\nSkipping line 553: expected 1 fields, saw 2\\nSkipping line 555: expected 1 fields, saw 2\\nSkipping line 564: expected 1 fields, saw 2\\nSkipping line 590: expected 1 fields, saw 2\\nSkipping line 599: expected 1 fields, saw 2\\nSkipping line 603: expected 1 fields, saw 2\\nSkipping line 633: expected 1 fields, saw 2\\nSkipping line 637: expected 1 fields, saw 2\\nSkipping line 674: expected 1 fields, saw 2\\nSkipping line 682: expected 1 fields, saw 2\\nSkipping line 690: expected 1 fields, saw 2\\nSkipping line 712: expected 1 fields, saw 2\\nSkipping line 728: expected 1 fields, saw 2\\nSkipping line 752: expected 1 fields, saw 2\\nSkipping line 776: expected 1 fields, saw 2\\nSkipping line 781: expected 1 fields, saw 4\\nSkipping line 835: expected 1 fields, saw 2\\nSkipping line 858: expected 1 fields, saw 2\\nSkipping line 894: expected 1 fields, saw 2\\nSkipping line 909: expected 1 fields, saw 2\\nSkipping line 919: expected 1 fields, saw 2\\nSkipping line 967: expected 1 fields, saw 2\\nSkipping line 1007: expected 1 fields, saw 2\\nSkipping line 1013: expected 1 fields, saw 2\\nSkipping line 1030: expected 1 fields, saw 2\\nSkipping line 1109: expected 1 fields, saw 2\\nSkipping line 1130: expected 1 fields, saw 2\\nSkipping line 1154: expected 1 fields, saw 2\\nSkipping line 1160: expected 1 fields, saw 2\\nSkipping line 1175: expected 1 fields, saw 3\\nSkipping line 1181: expected 1 fields, saw 2\\nSkipping line 1185: expected 1 fields, saw 2\\nSkipping line 1186: expected 1 fields, saw 2\\nSkipping line 1187: expected 1 fields, saw 2\\nSkipping line 1231: expected 1 fields, saw 2\\nSkipping line 1236: expected 1 fields, saw 2\\nSkipping line 1241: expected 1 fields, saw 2\\nSkipping line 1252: expected 1 fields, saw 2\\nSkipping line 1278: expected 1 fields, saw 3\\nSkipping line 1292: expected 1 fields, saw 2\\nSkipping line 1304: expected 1 fields, saw 2\\nSkipping line 1314: expected 1 fields, saw 2\\nSkipping line 1318: expected 1 fields, saw 2\\nSkipping line 1343: expected 1 fields, saw 2\\nSkipping line 1377: expected 1 fields, saw 2\\nSkipping line 1403: expected 1 fields, saw 2\\nSkipping line 1408: expected 1 fields, saw 2\\nSkipping line 1425: expected 1 fields, saw 5\\nSkipping line 1427: expected 1 fields, saw 2\\nSkipping line 1431: expected 1 fields, saw 2\\nSkipping line 1481: expected 1 fields, saw 2\\nSkipping line 1485: expected 1 fields, saw 3\\nSkipping line 1488: expected 1 fields, saw 2\\nSkipping line 1495: expected 1 fields, saw 2\\nSkipping line 1535: expected 1 fields, saw 3\\nSkipping line 1536: expected 1 fields, saw 2\\nSkipping line 1540: expected 1 fields, saw 2\\nSkipping line 1570: expected 1 fields, saw 3\\nSkipping line 1572: expected 1 fields, saw 2\\nSkipping line 1573: expected 1 fields, saw 2\\nSkipping line 1584: expected 1 fields, saw 2\\nSkipping line 1615: expected 1 fields, saw 3\\nSkipping line 1625: expected 1 fields, saw 2\\nSkipping line 1628: expected 1 fields, saw 2\\nSkipping line 1665: expected 1 fields, saw 2\\nSkipping line 1704: expected 1 fields, saw 2\\nSkipping line 1712: expected 1 fields, saw 2\\nSkipping line 1714: expected 1 fields, saw 2\\nSkipping line 1762: expected 1 fields, saw 2\\nSkipping line 1793: expected 1 fields, saw 2\\nSkipping line 1803: expected 1 fields, saw 3\\nSkipping line 1814: expected 1 fields, saw 2\\nSkipping line 1823: expected 1 fields, saw 2\\nSkipping line 1856: expected 1 fields, saw 3\\nSkipping line 1897: expected 1 fields, saw 2\\nSkipping line 1919: expected 1 fields, saw 2\\nSkipping line 2022: expected 1 fields, saw 2\\nSkipping line 2033: expected 1 fields, saw 3\\nSkipping line 2090: expected 1 fields, saw 2\\nSkipping line 2103: expected 1 fields, saw 2\\nSkipping line 2149: expected 1 fields, saw 2\\nSkipping line 2174: expected 1 fields, saw 2\\nSkipping line 2199: expected 1 fields, saw 3\\nSkipping line 2201: expected 1 fields, saw 2\\nSkipping line 2225: expected 1 fields, saw 3\\nSkipping line 2281: expected 1 fields, saw 2\\nSkipping line 2305: expected 1 fields, saw 2\\nSkipping line 2313: expected 1 fields, saw 2\\nSkipping line 2326: expected 1 fields, saw 2\\nSkipping line 2333: expected 1 fields, saw 2\\nSkipping line 2360: expected 1 fields, saw 2\\nSkipping line 2370: expected 1 fields, saw 2\\nSkipping line 2372: expected 1 fields, saw 2\\nSkipping line 2380: expected 1 fields, saw 2\\nSkipping line 2391: expected 1 fields, saw 2\\nSkipping line 2405: expected 1 fields, saw 2\\nSkipping line 2421: expected 1 fields, saw 2\\nSkipping line 2425: expected 1 fields, saw 2\\nSkipping line 2477: expected 1 fields, saw 2\\nSkipping line 2485: expected 1 fields, saw 2\\nSkipping line 2501: expected 1 fields, saw 2\\nSkipping line 2504: expected 1 fields, saw 2\\nSkipping line 2510: expected 1 fields, saw 2\\nSkipping line 2520: expected 1 fields, saw 2\\nSkipping line 2538: expected 1 fields, saw 2\\nSkipping line 2553: expected 1 fields, saw 2\\nSkipping line 2568: expected 1 fields, saw 4\\nSkipping line 2581: expected 1 fields, saw 2\\nSkipping line 2603: expected 1 fields, saw 2\\nSkipping line 2633: expected 1 fields, saw 2\\nSkipping line 2648: expected 1 fields, saw 2\\nSkipping line 2662: expected 1 fields, saw 2\\nSkipping line 2691: expected 1 fields, saw 2\\nSkipping line 2714: expected 1 fields, saw 2\\nSkipping line 2722: expected 1 fields, saw 2\\nSkipping line 2750: expected 1 fields, saw 2\\nSkipping line 2770: expected 1 fields, saw 3\\nSkipping line 2787: expected 1 fields, saw 2\\nSkipping line 2828: expected 1 fields, saw 2\\nSkipping line 2837: expected 1 fields, saw 2\\nSkipping line 2840: expected 1 fields, saw 2\\nSkipping line 2848: expected 1 fields, saw 2\\nSkipping line 2876: expected 1 fields, saw 2\\nSkipping line 2901: expected 1 fields, saw 4\\nSkipping line 2917: expected 1 fields, saw 2\\nSkipping line 2977: expected 1 fields, saw 2\\nSkipping line 2997: expected 1 fields, saw 2\\nSkipping line 2998: expected 1 fields, saw 2\\nSkipping line 3056: expected 1 fields, saw 2\\nSkipping line 3063: expected 1 fields, saw 2\\nSkipping line 3065: expected 1 fields, saw 2\\nSkipping line 3113: expected 1 fields, saw 3\\nSkipping line 3121: expected 1 fields, saw 2\\nSkipping line 3139: expected 1 fields, saw 2\\nSkipping line 3147: expected 1 fields, saw 2\\nSkipping line 3157: expected 1 fields, saw 2\\nSkipping line 3158: expected 1 fields, saw 2\\nSkipping line 3163: expected 1 fields, saw 2\\nSkipping line 3186: expected 1 fields, saw 3\\nSkipping line 3234: expected 1 fields, saw 2\\nSkipping line 3236: expected 1 fields, saw 2\\nSkipping line 3237: expected 1 fields, saw 2\\nSkipping line 3262: expected 1 fields, saw 2\\nSkipping line 3280: expected 1 fields, saw 2\\nSkipping line 3287: expected 1 fields, saw 3\\nSkipping line 3334: expected 1 fields, saw 2\\nSkipping line 3433: expected 1 fields, saw 2\\nSkipping line 3434: expected 1 fields, saw 2\\nSkipping line 3447: expected 1 fields, saw 2\\nSkipping line 3458: expected 1 fields, saw 2\\nSkipping line 3476: expected 1 fields, saw 2\\nSkipping line 3502: expected 1 fields, saw 2\\nSkipping line 3537: expected 1 fields, saw 2\\nSkipping line 3557: expected 1 fields, saw 2\\nSkipping line 3569: expected 1 fields, saw 2\\nSkipping line 3571: expected 1 fields, saw 2\\nSkipping line 3606: expected 1 fields, saw 2\\nSkipping line 3619: expected 1 fields, saw 2\\nSkipping line 3630: expected 1 fields, saw 2\\nSkipping line 3638: expected 1 fields, saw 2\\nSkipping line 3649: expected 1 fields, saw 2\\nSkipping line 3657: expected 1 fields, saw 2\\nSkipping line 3661: expected 1 fields, saw 4\\nSkipping line 3672: expected 1 fields, saw 2\\nSkipping line 3678: expected 1 fields, saw 2\\nSkipping line 3692: expected 1 fields, saw 2\\nSkipping line 3708: expected 1 fields, saw 2\\nSkipping line 3715: expected 1 fields, saw 2\\nSkipping line 3717: expected 1 fields, saw 2\\nSkipping line 3762: expected 1 fields, saw 2\\nSkipping line 3777: expected 1 fields, saw 2\\nSkipping line 3801: expected 1 fields, saw 3\\nSkipping line 3809: expected 1 fields, saw 2\\nSkipping line 3837: expected 1 fields, saw 2\\nSkipping line 3846: expected 1 fields, saw 2\\nSkipping line 3897: expected 1 fields, saw 2\\nSkipping line 3906: expected 1 fields, saw 2\\nSkipping line 3939: expected 1 fields, saw 2\\nSkipping line 3942: expected 1 fields, saw 3\\nSkipping line 3947: expected 1 fields, saw 3\\nSkipping line 3962: expected 1 fields, saw 2\\nSkipping line 3980: expected 1 fields, saw 2\\nSkipping line 4014: expected 1 fields, saw 2\\nSkipping line 4033: expected 1 fields, saw 2\\nSkipping line 4046: expected 1 fields, saw 3\\nSkipping line 4086: expected 1 fields, saw 2\\nSkipping line 4090: expected 1 fields, saw 2\\nSkipping line 4097: expected 1 fields, saw 2\\nSkipping line 4101: expected 1 fields, saw 2\\nSkipping line 4123: expected 1 fields, saw 2\\nSkipping line 4151: expected 1 fields, saw 2\\nSkipping line 4165: expected 1 fields, saw 2\\nSkipping line 4188: expected 1 fields, saw 2\\nSkipping line 4195: expected 1 fields, saw 2\\nSkipping line 4204: expected 1 fields, saw 2\\nSkipping line 4215: expected 1 fields, saw 2\\nSkipping line 4218: expected 1 fields, saw 2\\nSkipping line 4224: expected 1 fields, saw 2\\nSkipping line 4240: expected 1 fields, saw 2\\nSkipping line 4259: expected 1 fields, saw 2\\nSkipping line 4266: expected 1 fields, saw 2\\nSkipping line 4279: expected 1 fields, saw 2\\nSkipping line 4354: expected 1 fields, saw 2\\nSkipping line 4385: expected 1 fields, saw 2\\nSkipping line 4396: expected 1 fields, saw 3\\nSkipping line 4399: expected 1 fields, saw 2\\nSkipping line 4416: expected 1 fields, saw 2\\nSkipping line 4462: expected 1 fields, saw 2\\nSkipping line 4468: expected 1 fields, saw 2\\nSkipping line 4471: expected 1 fields, saw 2\\nSkipping line 4480: expected 1 fields, saw 2\\nSkipping line 4481: expected 1 fields, saw 2\\nSkipping line 4495: expected 1 fields, saw 2\\nSkipping line 4504: expected 1 fields, saw 2\\nSkipping line 4510: expected 1 fields, saw 2\\nSkipping line 4516: expected 1 fields, saw 2\\nSkipping line 4533: expected 1 fields, saw 2\\nSkipping line 4540: expected 1 fields, saw 2\\nSkipping line 4545: expected 1 fields, saw 2\\nSkipping line 4551: expected 1 fields, saw 2\\nSkipping line 4562: expected 1 fields, saw 2\\nSkipping line 4625: expected 1 fields, saw 2\\nSkipping line 4626: expected 1 fields, saw 3\\nSkipping line 4638: expected 1 fields, saw 2\\nSkipping line 4648: expected 1 fields, saw 3\\nSkipping line 4649: expected 1 fields, saw 3\\nSkipping line 4650: expected 1 fields, saw 2\\nSkipping line 4653: expected 1 fields, saw 3\\nSkipping line 4657: expected 1 fields, saw 2\\nSkipping line 4671: expected 1 fields, saw 3\\nSkipping line 4678: expected 1 fields, saw 3\\nSkipping line 4694: expected 1 fields, saw 2\\nSkipping line 4699: expected 1 fields, saw 2\\nSkipping line 4709: expected 1 fields, saw 2\\nSkipping line 4736: expected 1 fields, saw 2\\nSkipping line 4750: expected 1 fields, saw 2\\nSkipping line 4773: expected 1 fields, saw 2\\nSkipping line 4784: expected 1 fields, saw 2\\nSkipping line 4808: expected 1 fields, saw 2\\nSkipping line 4867: expected 1 fields, saw 2\\nSkipping line 4881: expected 1 fields, saw 3\\nSkipping line 4900: expected 1 fields, saw 3\\nSkipping line 4902: expected 1 fields, saw 3\\nSkipping line 4913: expected 1 fields, saw 3\\nSkipping line 4926: expected 1 fields, saw 2\\nSkipping line 4943: expected 1 fields, saw 2\\nSkipping line 4948: expected 1 fields, saw 2\\nSkipping line 4977: expected 1 fields, saw 2\\nSkipping line 4987: expected 1 fields, saw 2\\nSkipping line 4991: expected 1 fields, saw 2\\nSkipping line 5004: expected 1 fields, saw 2\\nSkipping line 5010: expected 1 fields, saw 2\\nSkipping line 5019: expected 1 fields, saw 2\\nSkipping line 5042: expected 1 fields, saw 2\\nSkipping line 5045: expected 1 fields, saw 2\\nSkipping line 5047: expected 1 fields, saw 2\\nSkipping line 5055: expected 1 fields, saw 2\\nSkipping line 5087: expected 1 fields, saw 3\\nSkipping line 5095: expected 1 fields, saw 2\\nSkipping line 5099: expected 1 fields, saw 2\\nSkipping line 5106: expected 1 fields, saw 2\\nSkipping line 5112: expected 1 fields, saw 2\\nSkipping line 5119: expected 1 fields, saw 2\\nSkipping line 5175: expected 1 fields, saw 2\\nSkipping line 5270: expected 1 fields, saw 2\\nSkipping line 5279: expected 1 fields, saw 2\\nSkipping line 5290: expected 1 fields, saw 2\\nSkipping line 5345: expected 1 fields, saw 2\\nSkipping line 5382: expected 1 fields, saw 2\\nSkipping line 5403: expected 1 fields, saw 2\\nSkipping line 5416: expected 1 fields, saw 2\\nSkipping line 5471: expected 1 fields, saw 2\\nSkipping line 5475: expected 1 fields, saw 2\\nSkipping line 5476: expected 1 fields, saw 3\\nSkipping line 5477: expected 1 fields, saw 3\\nSkipping line 5481: expected 1 fields, saw 2\\nSkipping line 5499: expected 1 fields, saw 2\\nSkipping line 5511: expected 1 fields, saw 2\\nSkipping line 5519: expected 1 fields, saw 2\\nSkipping line 5547: expected 1 fields, saw 2\\nSkipping line 5552: expected 1 fields, saw 3\\nSkipping line 5558: expected 1 fields, saw 2\\nSkipping line 5578: expected 1 fields, saw 2\\nSkipping line 5612: expected 1 fields, saw 2\\nSkipping line 5615: expected 1 fields, saw 2\\nSkipping line 5619: expected 1 fields, saw 2\\nSkipping line 5669: expected 1 fields, saw 2\\nSkipping line 5678: expected 1 fields, saw 2\\nSkipping line 5694: expected 1 fields, saw 2\\nSkipping line 5755: expected 1 fields, saw 2\\nSkipping line 5761: expected 1 fields, saw 2\\nSkipping line 5764: expected 1 fields, saw 2\\nSkipping line 5765: expected 1 fields, saw 2\\nSkipping line 5813: expected 1 fields, saw 2\\nSkipping line 5844: expected 1 fields, saw 2\\nSkipping line 5853: expected 1 fields, saw 2\\nSkipping line 5928: expected 1 fields, saw 5\\nSkipping line 5930: expected 1 fields, saw 3\\nSkipping line 5958: expected 1 fields, saw 2\\nSkipping line 5964: expected 1 fields, saw 2\\nSkipping line 5997: expected 1 fields, saw 2\\nSkipping line 6003: expected 1 fields, saw 2\\nSkipping line 6017: expected 1 fields, saw 3\\nSkipping line 6044: expected 1 fields, saw 2\\nSkipping line 6048: expected 1 fields, saw 2\\nSkipping line 6053: expected 1 fields, saw 3\\nSkipping line 6055: expected 1 fields, saw 2\\nSkipping line 6070: expected 1 fields, saw 2\\nSkipping line 6071: expected 1 fields, saw 2\\nSkipping line 6124: expected 1 fields, saw 2\\nSkipping line 6147: expected 1 fields, saw 3\\nSkipping line 6176: expected 1 fields, saw 2\\nSkipping line 6207: expected 1 fields, saw 2\\nSkipping line 6264: expected 1 fields, saw 2\\nSkipping line 6278: expected 1 fields, saw 2\\nSkipping line 6279: expected 1 fields, saw 2\\nSkipping line 6296: expected 1 fields, saw 2\\nSkipping line 6299: expected 1 fields, saw 2\\nSkipping line 6367: expected 1 fields, saw 2\\nSkipping line 6385: expected 1 fields, saw 2\\nSkipping line 6396: expected 1 fields, saw 2\\nSkipping line 6400: expected 1 fields, saw 2\\nSkipping line 6407: expected 1 fields, saw 2\\nSkipping line 6435: expected 1 fields, saw 2\\nSkipping line 6477: expected 1 fields, saw 5\\nSkipping line 6485: expected 1 fields, saw 2\\nSkipping line 6498: expected 1 fields, saw 2\\nSkipping line 6515: expected 1 fields, saw 3\\nSkipping line 6530: expected 1 fields, saw 2\\nSkipping line 6536: expected 1 fields, saw 2\\nSkipping line 6563: expected 1 fields, saw 3\\nSkipping line 6579: expected 1 fields, saw 2\\nSkipping line 6611: expected 1 fields, saw 2\\nSkipping line 6633: expected 1 fields, saw 2\\nSkipping line 6672: expected 1 fields, saw 2\\nSkipping line 6687: expected 1 fields, saw 2\\nSkipping line 6714: expected 1 fields, saw 2\\nSkipping line 6732: expected 1 fields, saw 2\\nSkipping line 6765: expected 1 fields, saw 2\\nSkipping line 6770: expected 1 fields, saw 2\\nSkipping line 6771: expected 1 fields, saw 2\\nSkipping line 6785: expected 1 fields, saw 2\\nSkipping line 6841: expected 1 fields, saw 3\\nSkipping line 6873: expected 1 fields, saw 2\\nSkipping line 6881: expected 1 fields, saw 2\\nSkipping line 6884: expected 1 fields, saw 2\\nSkipping line 6909: expected 1 fields, saw 2\\nSkipping line 6971: expected 1 fields, saw 2\\nSkipping line 6974: expected 1 fields, saw 2\\nSkipping line 6977: expected 1 fields, saw 2\\nSkipping line 6986: expected 1 fields, saw 3\\nSkipping line 7018: expected 1 fields, saw 3\\nSkipping line 7023: expected 1 fields, saw 2\\nSkipping line 7025: expected 1 fields, saw 2\\nSkipping line 7028: expected 1 fields, saw 2\\nSkipping line 7048: expected 1 fields, saw 2\\nSkipping line 7057: expected 1 fields, saw 2\\nSkipping line 7060: expected 1 fields, saw 3\\nSkipping line 7066: expected 1 fields, saw 2\\nSkipping line 7067: expected 1 fields, saw 2\\nSkipping line 7095: expected 1 fields, saw 2\\nSkipping line 7104: expected 1 fields, saw 2\\nSkipping line 7132: expected 1 fields, saw 2\\nSkipping line 7134: expected 1 fields, saw 2\\nSkipping line 7145: expected 1 fields, saw 2\\nSkipping line 7147: expected 1 fields, saw 2\\nSkipping line 7151: expected 1 fields, saw 2\\nSkipping line 7172: expected 1 fields, saw 2\\nSkipping line 7208: expected 1 fields, saw 2\\nSkipping line 7213: expected 1 fields, saw 2\\nSkipping line 7221: expected 1 fields, saw 2\\nSkipping line 7245: expected 1 fields, saw 2\\nSkipping line 7266: expected 1 fields, saw 2\\nSkipping line 7288: expected 1 fields, saw 2\\nSkipping line 7297: expected 1 fields, saw 3\\nSkipping line 7298: expected 1 fields, saw 2\\nSkipping line 7313: expected 1 fields, saw 2\\nSkipping line 7319: expected 1 fields, saw 2\\nSkipping line 7369: expected 1 fields, saw 2\\nSkipping line 7382: expected 1 fields, saw 3\\nSkipping line 7402: expected 1 fields, saw 3\\nSkipping line 7405: expected 1 fields, saw 3\\nSkipping line 7406: expected 1 fields, saw 2\\nSkipping line 7408: expected 1 fields, saw 2\\nSkipping line 7412: expected 1 fields, saw 2\\nSkipping line 7421: expected 1 fields, saw 2\\nSkipping line 7441: expected 1 fields, saw 2\\nSkipping line 7446: expected 1 fields, saw 2\\nSkipping line 7447: expected 1 fields, saw 2\\nSkipping line 7466: expected 1 fields, saw 2\\nSkipping line 7474: expected 1 fields, saw 2\\nSkipping line 7487: expected 1 fields, saw 2\\nSkipping line 7520: expected 1 fields, saw 3\\nSkipping line 7539: expected 1 fields, saw 4\\nSkipping line 7546: expected 1 fields, saw 2\\nSkipping line 7557: expected 1 fields, saw 2\\nSkipping line 7567: expected 1 fields, saw 2\\nSkipping line 7604: expected 1 fields, saw 2\\nSkipping line 7606: expected 1 fields, saw 2\\nSkipping line 7672: expected 1 fields, saw 2\\nSkipping line 7673: expected 1 fields, saw 2\\nSkipping line 7686: expected 1 fields, saw 2\\nSkipping line 7713: expected 1 fields, saw 2\\nSkipping line 7736: expected 1 fields, saw 2\\nSkipping line 7740: expected 1 fields, saw 2\\nSkipping line 7748: expected 1 fields, saw 2\\nSkipping line 7768: expected 1 fields, saw 2\\nSkipping line 7769: expected 1 fields, saw 2\\nSkipping line 7791: expected 1 fields, saw 2\\nSkipping line 7819: expected 1 fields, saw 2\\nSkipping line 7826: expected 1 fields, saw 3\\nSkipping line 7896: expected 1 fields, saw 2\\nSkipping line 7897: expected 1 fields, saw 2\\nSkipping line 7903: expected 1 fields, saw 2\\nSkipping line 7916: expected 1 fields, saw 2\\nSkipping line 7934: expected 1 fields, saw 2\\nSkipping line 7942: expected 1 fields, saw 2\\nSkipping line 7975: expected 1 fields, saw 2\\nSkipping line 7976: expected 1 fields, saw 2\\nSkipping line 7978: expected 1 fields, saw 4\\nSkipping line 8008: expected 1 fields, saw 2\\nSkipping line 8011: expected 1 fields, saw 2\\nSkipping line 8014: expected 1 fields, saw 2\\nSkipping line 8037: expected 1 fields, saw 2\\nSkipping line 8047: expected 1 fields, saw 2\\nSkipping line 8054: expected 1 fields, saw 2\\nSkipping line 8071: expected 1 fields, saw 2\\nSkipping line 8081: expected 1 fields, saw 2\\nSkipping line 8105: expected 1 fields, saw 2\\nSkipping line 8107: expected 1 fields, saw 2\\nSkipping line 8112: expected 1 fields, saw 2\\nSkipping line 8115: expected 1 fields, saw 2\\nSkipping line 8124: expected 1 fields, saw 2\\nSkipping line 8134: expected 1 fields, saw 2\\nSkipping line 8146: expected 1 fields, saw 2\\nSkipping line 8149: expected 1 fields, saw 2\\nSkipping line 8150: expected 1 fields, saw 2\\nSkipping line 8195: expected 1 fields, saw 2\\nSkipping line 8201: expected 1 fields, saw 2\\nSkipping line 8210: expected 1 fields, saw 2\\nSkipping line 8302: expected 1 fields, saw 2\\nSkipping line 8356: expected 1 fields, saw 2\\nSkipping line 8373: expected 1 fields, saw 2\\nSkipping line 8393: expected 1 fields, saw 2\\nSkipping line 8397: expected 1 fields, saw 2\\nSkipping line 8423: expected 1 fields, saw 2\\nSkipping line 8424: expected 1 fields, saw 2\\nSkipping line 8470: expected 1 fields, saw 3\\nSkipping line 8479: expected 1 fields, saw 3\\nSkipping line 8492: expected 1 fields, saw 2\\nSkipping line 8519: expected 1 fields, saw 2\\nSkipping line 8556: expected 1 fields, saw 2\\nSkipping line 8560: expected 1 fields, saw 2\\nSkipping line 8599: expected 1 fields, saw 2\\nSkipping line 8611: expected 1 fields, saw 2\\nSkipping line 8618: expected 1 fields, saw 2\\nSkipping line 8634: expected 1 fields, saw 2\\nSkipping line 8637: expected 1 fields, saw 2\\nSkipping line 8674: expected 1 fields, saw 2\\nSkipping line 8681: expected 1 fields, saw 2\\nSkipping line 8697: expected 1 fields, saw 2\\nSkipping line 8717: expected 1 fields, saw 2\\nSkipping line 8719: expected 1 fields, saw 2\\nSkipping line 8729: expected 1 fields, saw 2\\nSkipping line 8731: expected 1 fields, saw 2\\nSkipping line 8740: expected 1 fields, saw 2\\nSkipping line 8741: expected 1 fields, saw 3\\nSkipping line 8742: expected 1 fields, saw 2\\nSkipping line 8756: expected 1 fields, saw 5\\nSkipping line 8760: expected 1 fields, saw 2\\nSkipping line 8813: expected 1 fields, saw 2\\nSkipping line 8865: expected 1 fields, saw 2\\nSkipping line 8891: expected 1 fields, saw 2\\nSkipping line 8908: expected 1 fields, saw 2\\nSkipping line 8911: expected 1 fields, saw 3\\nSkipping line 8914: expected 1 fields, saw 4\\nSkipping line 8924: expected 1 fields, saw 2\\nSkipping line 8948: expected 1 fields, saw 2\\nSkipping line 8963: expected 1 fields, saw 2\\nSkipping line 8975: expected 1 fields, saw 2\\nSkipping line 9093: expected 1 fields, saw 3\\nSkipping line 9098: expected 1 fields, saw 2\\nSkipping line 9171: expected 1 fields, saw 3\\nSkipping line 9180: expected 1 fields, saw 2\\nSkipping line 9181: expected 1 fields, saw 2\\nSkipping line 9186: expected 1 fields, saw 2\\nSkipping line 9264: expected 1 fields, saw 3\\nSkipping line 9289: expected 1 fields, saw 2\\nSkipping line 9290: expected 1 fields, saw 2\\nSkipping line 9293: expected 1 fields, saw 2\\nSkipping line 9295: expected 1 fields, saw 2\\nSkipping line 9297: expected 1 fields, saw 2\\nSkipping line 9309: expected 1 fields, saw 2\\nSkipping line 9320: expected 1 fields, saw 3\\nSkipping line 9350: expected 1 fields, saw 2\\nSkipping line 9368: expected 1 fields, saw 2\\nSkipping line 9369: expected 1 fields, saw 2\\nSkipping line 9388: expected 1 fields, saw 2\\nSkipping line 9389: expected 1 fields, saw 2\\nSkipping line 9399: expected 1 fields, saw 2\\nSkipping line 9434: expected 1 fields, saw 2\\nSkipping line 9438: expected 1 fields, saw 2\\nSkipping line 9441: expected 1 fields, saw 2\\nSkipping line 9443: expected 1 fields, saw 2\\nSkipping line 9463: expected 1 fields, saw 2\\nSkipping line 9471: expected 1 fields, saw 2\\nSkipping line 9506: expected 1 fields, saw 3\\nSkipping line 9525: expected 1 fields, saw 2\\nSkipping line 9537: expected 1 fields, saw 2\\nSkipping line 9541: expected 1 fields, saw 2\\nSkipping line 9552: expected 1 fields, saw 2\\nSkipping line 9555: expected 1 fields, saw 2\\nSkipping line 9559: expected 1 fields, saw 2\\nSkipping line 9560: expected 1 fields, saw 2\\nSkipping line 9577: expected 1 fields, saw 2\\nSkipping line 9578: expected 1 fields, saw 2\\nSkipping line 9582: expected 1 fields, saw 2\\nSkipping line 9605: expected 1 fields, saw 2\\nSkipping line 9634: expected 1 fields, saw 2\\nSkipping line 9643: expected 1 fields, saw 2\\nSkipping line 9654: expected 1 fields, saw 2\\nSkipping line 9657: expected 1 fields, saw 3\\nSkipping line 9662: expected 1 fields, saw 2\\nSkipping line 9693: expected 1 fields, saw 2\\nSkipping line 9843: expected 1 fields, saw 2\\nSkipping line 9856: expected 1 fields, saw 2\\nSkipping line 9864: expected 1 fields, saw 2\\nSkipping line 9885: expected 1 fields, saw 3\\nSkipping line 9889: expected 1 fields, saw 2\\nSkipping line 9892: expected 1 fields, saw 3\\nSkipping line 9893: expected 1 fields, saw 2\\nSkipping line 9914: expected 1 fields, saw 2\\nSkipping line 9919: expected 1 fields, saw 2\\nSkipping line 9929: expected 1 fields, saw 2\\nSkipping line 9940: expected 1 fields, saw 2\\nSkipping line 9954: expected 1 fields, saw 2\\nSkipping line 10057: expected 1 fields, saw 2\\nSkipping line 10080: expected 1 fields, saw 2\\nSkipping line 10087: expected 1 fields, saw 2\\nSkipping line 10097: expected 1 fields, saw 2\\nSkipping line 10117: expected 1 fields, saw 2\\nSkipping line 10125: expected 1 fields, saw 3\\nSkipping line 10160: expected 1 fields, saw 2\\nSkipping line 10224: expected 1 fields, saw 3\\nSkipping line 10232: expected 1 fields, saw 2\\nSkipping line 10233: expected 1 fields, saw 2\\nSkipping line 10258: expected 1 fields, saw 2\\nSkipping line 10261: expected 1 fields, saw 2\\nSkipping line 10266: expected 1 fields, saw 2\\nSkipping line 10355: expected 1 fields, saw 2\\nSkipping line 10360: expected 1 fields, saw 2\\nSkipping line 10362: expected 1 fields, saw 2\\nSkipping line 10367: expected 1 fields, saw 3\\nSkipping line 10380: expected 1 fields, saw 2\\nSkipping line 10385: expected 1 fields, saw 2\\nSkipping line 10401: expected 1 fields, saw 2\\nSkipping line 10407: expected 1 fields, saw 2\\nSkipping line 10420: expected 1 fields, saw 2\\nSkipping line 10422: expected 1 fields, saw 2\\nSkipping line 10428: expected 1 fields, saw 2\\nSkipping line 10433: expected 1 fields, saw 3\\nSkipping line 10450: expected 1 fields, saw 2\\nSkipping line 10478: expected 1 fields, saw 3\\nSkipping line 10504: expected 1 fields, saw 2\\nSkipping line 10518: expected 1 fields, saw 3\\nSkipping line 10524: expected 1 fields, saw 2\\nSkipping line 10526: expected 1 fields, saw 2\\nSkipping line 10579: expected 1 fields, saw 3\\nSkipping line 10602: expected 1 fields, saw 2\\nSkipping line 10629: expected 1 fields, saw 3\\nSkipping line 10685: expected 1 fields, saw 2\\nSkipping line 10701: expected 1 fields, saw 2\\nSkipping line 10707: expected 1 fields, saw 2\\nSkipping line 10804: expected 1 fields, saw 3\\nSkipping line 10826: expected 1 fields, saw 2\\nSkipping line 10827: expected 1 fields, saw 2\\nSkipping line 10834: expected 1 fields, saw 4\\nSkipping line 10849: expected 1 fields, saw 2\\nSkipping line 10850: expected 1 fields, saw 3\\nSkipping line 10864: expected 1 fields, saw 2\\nSkipping line 10868: expected 1 fields, saw 2\\nSkipping line 10909: expected 1 fields, saw 2\\nSkipping line 10955: expected 1 fields, saw 2\\nSkipping line 11026: expected 1 fields, saw 2\\nSkipping line 11031: expected 1 fields, saw 2\\nSkipping line 11046: expected 1 fields, saw 2\\nSkipping line 11047: expected 1 fields, saw 2\\nSkipping line 11060: expected 1 fields, saw 2\\nSkipping line 11088: expected 1 fields, saw 2\\nSkipping line 11099: expected 1 fields, saw 8\\nSkipping line 11135: expected 1 fields, saw 2\\nSkipping line 11152: expected 1 fields, saw 2\\nSkipping line 11156: expected 1 fields, saw 2\\nSkipping line 11158: expected 1 fields, saw 2\\nSkipping line 11168: expected 1 fields, saw 2\\nSkipping line 11189: expected 1 fields, saw 2\\nSkipping line 11190: expected 1 fields, saw 2\\nSkipping line 11205: expected 1 fields, saw 2\\nSkipping line 11232: expected 1 fields, saw 2\\nSkipping line 11246: expected 1 fields, saw 3\\nSkipping line 11247: expected 1 fields, saw 2\\nSkipping line 11265: expected 1 fields, saw 3\\nSkipping line 11268: expected 1 fields, saw 2\\nSkipping line 11271: expected 1 fields, saw 2\\nSkipping line 11288: expected 1 fields, saw 2\\nSkipping line 11336: expected 1 fields, saw 2\\nSkipping line 11338: expected 1 fields, saw 2\\nSkipping line 11361: expected 1 fields, saw 2\\nSkipping line 11365: expected 1 fields, saw 2\\nSkipping line 11388: expected 1 fields, saw 2\\nSkipping line 11403: expected 1 fields, saw 2\\nSkipping line 11414: expected 1 fields, saw 2\\nSkipping line 11424: expected 1 fields, saw 2\\nSkipping line 11427: expected 1 fields, saw 2\\nSkipping line 11429: expected 1 fields, saw 2\\nSkipping line 11463: expected 1 fields, saw 2\\nSkipping line 11469: expected 1 fields, saw 2\\nSkipping line 11475: expected 1 fields, saw 2\\nSkipping line 11515: expected 1 fields, saw 3\\nSkipping line 11566: expected 1 fields, saw 2\\nSkipping line 11569: expected 1 fields, saw 2\\nSkipping line 11617: expected 1 fields, saw 2\\nSkipping line 11627: expected 1 fields, saw 2\\nSkipping line 11634: expected 1 fields, saw 2\\nSkipping line 11655: expected 1 fields, saw 2\\nSkipping line 11687: expected 1 fields, saw 2\\nSkipping line 11695: expected 1 fields, saw 2\\nSkipping line 11701: expected 1 fields, saw 2\\nSkipping line 11702: expected 1 fields, saw 2\\nSkipping line 11715: expected 1 fields, saw 2\\nSkipping line 11727: expected 1 fields, saw 2\\nSkipping line 11744: expected 1 fields, saw 2\\nSkipping line 11745: expected 1 fields, saw 2\\nSkipping line 11772: expected 1 fields, saw 3\\nSkipping line 11826: expected 1 fields, saw 2\\nSkipping line 11830: expected 1 fields, saw 2\\nSkipping line 11833: expected 1 fields, saw 3\\nSkipping line 11873: expected 1 fields, saw 2\\nSkipping line 11890: expected 1 fields, saw 2\\nSkipping line 11898: expected 1 fields, saw 2\\nSkipping line 11907: expected 1 fields, saw 2\\nSkipping line 11919: expected 1 fields, saw 2\\nSkipping line 11923: expected 1 fields, saw 2\\nSkipping line 11931: expected 1 fields, saw 2\\nSkipping line 11996: expected 1 fields, saw 2\\nSkipping line 12019: expected 1 fields, saw 2\\nSkipping line 12028: expected 1 fields, saw 2\\nSkipping line 12046: expected 1 fields, saw 2\\nSkipping line 12047: expected 1 fields, saw 2\\nSkipping line 12050: expected 1 fields, saw 3\\nSkipping line 12085: expected 1 fields, saw 2\\nSkipping line 12145: expected 1 fields, saw 2\\nSkipping line 12166: expected 1 fields, saw 2\\nSkipping line 12167: expected 1 fields, saw 3\\nSkipping line 12182: expected 1 fields, saw 2\\nSkipping line 12190: expected 1 fields, saw 2\\nSkipping line 12203: expected 1 fields, saw 2\\nSkipping line 12207: expected 1 fields, saw 2\\nSkipping line 12216: expected 1 fields, saw 2\\nSkipping line 12231: expected 1 fields, saw 2\\nSkipping line 12255: expected 1 fields, saw 2\\nSkipping line 12303: expected 1 fields, saw 2\\nSkipping line 12305: expected 1 fields, saw 2\\nSkipping line 12316: expected 1 fields, saw 4\\nSkipping line 12327: expected 1 fields, saw 2\\nSkipping line 12330: expected 1 fields, saw 2\\nSkipping line 12332: expected 1 fields, saw 3\\nSkipping line 12354: expected 1 fields, saw 2\\nSkipping line 12357: expected 1 fields, saw 2\\nSkipping line 12376: expected 1 fields, saw 2\\nSkipping line 12380: expected 1 fields, saw 2\\nSkipping line 12385: expected 1 fields, saw 2\\nSkipping line 12425: expected 1 fields, saw 2\\nSkipping line 12438: expected 1 fields, saw 2\\nSkipping line 12476: expected 1 fields, saw 2\\nSkipping line 12487: expected 1 fields, saw 2\\nSkipping line 12488: expected 1 fields, saw 2\\nSkipping line 12492: expected 1 fields, saw 2\\nSkipping line 12507: expected 1 fields, saw 2\\nSkipping line 12537: expected 1 fields, saw 2\\nSkipping line 12544: expected 1 fields, saw 3\\nSkipping line 12554: expected 1 fields, saw 2\\nSkipping line 12557: expected 1 fields, saw 2\\nSkipping line 12596: expected 1 fields, saw 2\\nSkipping line 12661: expected 1 fields, saw 2\\nSkipping line 12688: expected 1 fields, saw 2\\nSkipping line 12702: expected 1 fields, saw 2\\nSkipping line 12731: expected 1 fields, saw 2\\nSkipping line 12777: expected 1 fields, saw 2\\nSkipping line 12825: expected 1 fields, saw 2\\nSkipping line 12830: expected 1 fields, saw 3\\nSkipping line 12835: expected 1 fields, saw 2\\nSkipping line 12847: expected 1 fields, saw 2\\nSkipping line 12850: expected 1 fields, saw 2\\nSkipping line 12852: expected 1 fields, saw 2\\nSkipping line 12893: expected 1 fields, saw 2\\nSkipping line 12900: expected 1 fields, saw 2\\nSkipping line 12956: expected 1 fields, saw 3\\nSkipping line 12988: expected 1 fields, saw 2\\nSkipping line 12997: expected 1 fields, saw 2\\nSkipping line 13004: expected 1 fields, saw 2\\nSkipping line 13006: expected 1 fields, saw 2\\nSkipping line 13015: expected 1 fields, saw 2\\nSkipping line 13026: expected 1 fields, saw 2\\nSkipping line 13037: expected 1 fields, saw 2\\nSkipping line 13069: expected 1 fields, saw 2\\nSkipping line 13078: expected 1 fields, saw 2\\nSkipping line 13084: expected 1 fields, saw 3\\nSkipping line 13118: expected 1 fields, saw 2\\nSkipping line 13141: expected 1 fields, saw 3\\nSkipping line 13151: expected 1 fields, saw 2\\nSkipping line 13167: expected 1 fields, saw 2\\nSkipping line 13196: expected 1 fields, saw 2\\nSkipping line 13242: expected 1 fields, saw 2\\nSkipping line 13246: expected 1 fields, saw 2\\nSkipping line 13257: expected 1 fields, saw 2\\nSkipping line 13265: expected 1 fields, saw 2\\nSkipping line 13291: expected 1 fields, saw 2\\nSkipping line 13298: expected 1 fields, saw 2\\nSkipping line 13310: expected 1 fields, saw 2\\nSkipping line 13328: expected 1 fields, saw 2\\nSkipping line 13339: expected 1 fields, saw 2\\nSkipping line 13345: expected 1 fields, saw 2\\nSkipping line 13371: expected 1 fields, saw 3\\nSkipping line 13373: expected 1 fields, saw 3\\nSkipping line 13376: expected 1 fields, saw 2\\nSkipping line 13405: expected 1 fields, saw 2\\nSkipping line 13408: expected 1 fields, saw 2\\nSkipping line 13415: expected 1 fields, saw 2\\nSkipping line 13424: expected 1 fields, saw 2\\nSkipping line 13428: expected 1 fields, saw 2\\nSkipping line 13472: expected 1 fields, saw 2\\nSkipping line 13479: expected 1 fields, saw 2\\nSkipping line 13485: expected 1 fields, saw 2\\nSkipping line 13528: expected 1 fields, saw 2\\nSkipping line 13538: expected 1 fields, saw 2\\nSkipping line 13547: expected 1 fields, saw 2\\nSkipping line 13564: expected 1 fields, saw 3\\nSkipping line 13576: expected 1 fields, saw 2\\nSkipping line 13581: expected 1 fields, saw 2\\nSkipping line 13640: expected 1 fields, saw 3\\nSkipping line 13641: expected 1 fields, saw 2\\nSkipping line 13645: expected 1 fields, saw 2\\nSkipping line 13647: expected 1 fields, saw 2\\nSkipping line 13653: expected 1 fields, saw 2\\nSkipping line 13666: expected 1 fields, saw 2\\nSkipping line 13670: expected 1 fields, saw 2\\nSkipping line 13673: expected 1 fields, saw 2\\nSkipping line 13688: expected 1 fields, saw 2\\nSkipping line 13698: expected 1 fields, saw 3\\nSkipping line 13701: expected 1 fields, saw 2\\nSkipping line 13715: expected 1 fields, saw 2\\nSkipping line 13716: expected 1 fields, saw 2\\nSkipping line 13718: expected 1 fields, saw 2\\nSkipping line 13719: expected 1 fields, saw 2\\nSkipping line 13722: expected 1 fields, saw 3\\nSkipping line 13723: expected 1 fields, saw 2\\nSkipping line 13743: expected 1 fields, saw 2\\nSkipping line 13746: expected 1 fields, saw 3\\nSkipping line 13755: expected 1 fields, saw 2\\nSkipping line 13762: expected 1 fields, saw 2\\nSkipping line 13780: expected 1 fields, saw 2\\nSkipping line 13816: expected 1 fields, saw 2\\nSkipping line 13820: expected 1 fields, saw 2\\nSkipping line 13822: expected 1 fields, saw 2\\nSkipping line 13823: expected 1 fields, saw 2\\nSkipping line 13873: expected 1 fields, saw 2\\nSkipping line 13888: expected 1 fields, saw 2\\nSkipping line 13919: expected 1 fields, saw 2\\nSkipping line 13940: expected 1 fields, saw 2\\nSkipping line 13965: expected 1 fields, saw 2\\nSkipping line 13974: expected 1 fields, saw 2\\nSkipping line 13977: expected 1 fields, saw 2\\nSkipping line 13978: expected 1 fields, saw 2\\nSkipping line 13994: expected 1 fields, saw 2\\nSkipping line 13996: expected 1 fields, saw 2\\nSkipping line 14004: expected 1 fields, saw 2\\nSkipping line 14006: expected 1 fields, saw 2\\nSkipping line 14018: expected 1 fields, saw 2\\nSkipping line 14019: expected 1 fields, saw 3\\nSkipping line 14050: expected 1 fields, saw 2\\nSkipping line 14067: expected 1 fields, saw 2\\nSkipping line 14087: expected 1 fields, saw 2\\nSkipping line 14119: expected 1 fields, saw 2\\nSkipping line 14123: expected 1 fields, saw 2\\nSkipping line 14134: expected 1 fields, saw 2\\nSkipping line 14146: expected 1 fields, saw 2\\nSkipping line 14169: expected 1 fields, saw 2\\nSkipping line 14185: expected 1 fields, saw 2\\nSkipping line 14197: expected 1 fields, saw 2\\nSkipping line 14202: expected 1 fields, saw 2\\nSkipping line 14219: expected 1 fields, saw 2\\nSkipping line 14230: expected 1 fields, saw 2\\nSkipping line 14248: expected 1 fields, saw 2\\nSkipping line 14269: expected 1 fields, saw 2\\nSkipping line 14275: expected 1 fields, saw 2\\nSkipping line 14304: expected 1 fields, saw 2\\nSkipping line 14306: expected 1 fields, saw 2\\nSkipping line 14321: expected 1 fields, saw 2\\nSkipping line 14382: expected 1 fields, saw 2\\nSkipping line 14401: expected 1 fields, saw 4\\nSkipping line 14413: expected 1 fields, saw 2\\nSkipping line 14423: expected 1 fields, saw 2\\nSkipping line 14426: expected 1 fields, saw 2\\nSkipping line 14436: expected 1 fields, saw 2\\nSkipping line 14477: expected 1 fields, saw 2\\nSkipping line 14487: expected 1 fields, saw 2\\nSkipping line 14493: expected 1 fields, saw 2\\nSkipping line 14574: expected 1 fields, saw 2\\nSkipping line 14578: expected 1 fields, saw 2\\nSkipping line 14582: expected 1 fields, saw 3\\nSkipping line 14597: expected 1 fields, saw 2\\nSkipping line 14601: expected 1 fields, saw 2\\nSkipping line 14602: expected 1 fields, saw 2\\nSkipping line 14610: expected 1 fields, saw 2\\nSkipping line 14619: expected 1 fields, saw 3\\nSkipping line 14622: expected 1 fields, saw 3\\nSkipping line 14624: expected 1 fields, saw 2\\nSkipping line 14638: expected 1 fields, saw 2\\nSkipping line 14666: expected 1 fields, saw 2\\nSkipping line 14686: expected 1 fields, saw 2\\nSkipping line 14713: expected 1 fields, saw 2\\nSkipping line 14721: expected 1 fields, saw 2\\nSkipping line 14729: expected 1 fields, saw 2\\nSkipping line 14748: expected 1 fields, saw 2\\nSkipping line 14765: expected 1 fields, saw 2\\nSkipping line 14781: expected 1 fields, saw 2\\nSkipping line 14808: expected 1 fields, saw 2\\nSkipping line 14853: expected 1 fields, saw 2\\nSkipping line 14894: expected 1 fields, saw 2\\nSkipping line 14910: expected 1 fields, saw 2\\nSkipping line 14919: expected 1 fields, saw 2\\nSkipping line 14988: expected 1 fields, saw 2\\nSkipping line 15007: expected 1 fields, saw 2\\nSkipping line 15008: expected 1 fields, saw 3\\nSkipping line 15024: expected 1 fields, saw 2\\nSkipping line 15036: expected 1 fields, saw 2\\nSkipping line 15043: expected 1 fields, saw 3\\nSkipping line 15048: expected 1 fields, saw 3\\nSkipping line 15075: expected 1 fields, saw 2\\nSkipping line 15104: expected 1 fields, saw 2\\nSkipping line 15111: expected 1 fields, saw 2\\nSkipping line 15164: expected 1 fields, saw 2\\nSkipping line 15172: expected 1 fields, saw 2\\nSkipping line 15200: expected 1 fields, saw 2\\nSkipping line 15238: expected 1 fields, saw 2\\nSkipping line 15269: expected 1 fields, saw 2\\nSkipping line 15296: expected 1 fields, saw 2\\nSkipping line 15342: expected 1 fields, saw 3\\nSkipping line 15377: expected 1 fields, saw 3\\nSkipping line 15382: expected 1 fields, saw 3\\nSkipping line 15386: expected 1 fields, saw 3\\nSkipping line 15389: expected 1 fields, saw 2\\nSkipping line 15393: expected 1 fields, saw 3\\nSkipping line 15407: expected 1 fields, saw 2\\nSkipping line 15415: expected 1 fields, saw 2\\nSkipping line 15436: expected 1 fields, saw 3\\nSkipping line 15444: expected 1 fields, saw 2\\nSkipping line 15467: expected 1 fields, saw 2\\nSkipping line 15473: expected 1 fields, saw 4\\nSkipping line 15485: expected 1 fields, saw 2\\nSkipping line 15489: expected 1 fields, saw 2\\nSkipping line 15530: expected 1 fields, saw 2\\nSkipping line 15543: expected 1 fields, saw 2\\nSkipping line 15586: expected 1 fields, saw 2\\nSkipping line 15627: expected 1 fields, saw 2\\nSkipping line 15643: expected 1 fields, saw 2\\nSkipping line 15647: expected 1 fields, saw 3\\nSkipping line 15667: expected 1 fields, saw 2\\nSkipping line 15726: expected 1 fields, saw 3\\nSkipping line 15747: expected 1 fields, saw 2\\nSkipping line 15751: expected 1 fields, saw 2\\nSkipping line 15797: expected 1 fields, saw 2\\nSkipping line 15814: expected 1 fields, saw 2\\nSkipping line 15830: expected 1 fields, saw 2\\nSkipping line 15856: expected 1 fields, saw 2\\nSkipping line 15857: expected 1 fields, saw 2\\nSkipping line 15864: expected 1 fields, saw 3\\nSkipping line 15874: expected 1 fields, saw 2\\nSkipping line 15920: expected 1 fields, saw 2\\nSkipping line 15932: expected 1 fields, saw 2\\nSkipping line 15956: expected 1 fields, saw 3\\nSkipping line 15958: expected 1 fields, saw 2\\nSkipping line 15979: expected 1 fields, saw 2\\nSkipping line 16001: expected 1 fields, saw 3\\nSkipping line 16010: expected 1 fields, saw 2\\nSkipping line 16041: expected 1 fields, saw 3\\nSkipping line 16107: expected 1 fields, saw 4\\nSkipping line 16125: expected 1 fields, saw 3\\nSkipping line 16130: expected 1 fields, saw 2\\nSkipping line 16172: expected 1 fields, saw 2\\nSkipping line 16183: expected 1 fields, saw 3\\nSkipping line 16186: expected 1 fields, saw 2\\nSkipping line 16209: expected 1 fields, saw 2\\nSkipping line 16218: expected 1 fields, saw 3\\nSkipping line 16236: expected 1 fields, saw 3\\nSkipping line 16266: expected 1 fields, saw 2\\nSkipping line 16277: expected 1 fields, saw 2\\nSkipping line 16296: expected 1 fields, saw 2\\nSkipping line 16297: expected 1 fields, saw 2\\nSkipping line 16318: expected 1 fields, saw 2\\nSkipping line 16321: expected 1 fields, saw 2\\nSkipping line 16323: expected 1 fields, saw 2\\nSkipping line 16361: expected 1 fields, saw 3\\nSkipping line 16366: expected 1 fields, saw 2\\nSkipping line 16408: expected 1 fields, saw 3\\nSkipping line 16410: expected 1 fields, saw 4\\nSkipping line 16418: expected 1 fields, saw 2\\nSkipping line 16436: expected 1 fields, saw 2\\nSkipping line 16479: expected 1 fields, saw 2\\nSkipping line 16487: expected 1 fields, saw 2\\nSkipping line 16528: expected 1 fields, saw 2\\nSkipping line 16540: expected 1 fields, saw 3\\nSkipping line 16573: expected 1 fields, saw 2\\nSkipping line 16580: expected 1 fields, saw 2\\nSkipping line 16602: expected 1 fields, saw 2\\nSkipping line 16604: expected 1 fields, saw 2\\nSkipping line 16607: expected 1 fields, saw 2\\nSkipping line 16644: expected 1 fields, saw 2\\nSkipping line 16659: expected 1 fields, saw 2\\nSkipping line 16665: expected 1 fields, saw 2\\nSkipping line 16667: expected 1 fields, saw 2\\nSkipping line 16674: expected 1 fields, saw 2\\nSkipping line 16679: expected 1 fields, saw 2\\nSkipping line 16682: expected 1 fields, saw 2\\nSkipping line 16683: expected 1 fields, saw 2\\nSkipping line 16708: expected 1 fields, saw 2\\nSkipping line 16716: expected 1 fields, saw 2\\nSkipping line 16774: expected 1 fields, saw 2\\nSkipping line 16805: expected 1 fields, saw 2\\nSkipping line 16806: expected 1 fields, saw 3\\nSkipping line 16813: expected 1 fields, saw 2\\nSkipping line 16828: expected 1 fields, saw 2\\nSkipping line 16889: expected 1 fields, saw 2\\nSkipping line 16940: expected 1 fields, saw 2\\nSkipping line 16964: expected 1 fields, saw 2\\nSkipping line 17017: expected 1 fields, saw 2\\nSkipping line 17040: expected 1 fields, saw 2\\nSkipping line 17059: expected 1 fields, saw 2\\nSkipping line 17062: expected 1 fields, saw 2\\nSkipping line 17069: expected 1 fields, saw 2\\nSkipping line 17073: expected 1 fields, saw 2\\nSkipping line 17078: expected 1 fields, saw 2\\nSkipping line 17098: expected 1 fields, saw 2\\nSkipping line 17119: expected 1 fields, saw 2\\nSkipping line 17166: expected 1 fields, saw 2\\nSkipping line 17180: expected 1 fields, saw 2\\nSkipping line 17191: expected 1 fields, saw 3\\nSkipping line 17260: expected 1 fields, saw 2\\nSkipping line 17264: expected 1 fields, saw 2\\nSkipping line 17281: expected 1 fields, saw 2\\nSkipping line 17345: expected 1 fields, saw 2\\nSkipping line 17364: expected 1 fields, saw 2\\nSkipping line 17393: expected 1 fields, saw 2\\nSkipping line 17411: expected 1 fields, saw 2\\nSkipping line 17416: expected 1 fields, saw 2\\nSkipping line 17419: expected 1 fields, saw 2\\nSkipping line 17439: expected 1 fields, saw 2\\nSkipping line 17465: expected 1 fields, saw 2\\nSkipping line 17468: expected 1 fields, saw 2\\nSkipping line 17472: expected 1 fields, saw 2\\nSkipping line 17483: expected 1 fields, saw 2\\nSkipping line 17484: expected 1 fields, saw 2\\nSkipping line 17487: expected 1 fields, saw 3\\nSkipping line 17501: expected 1 fields, saw 2\\nSkipping line 17503: expected 1 fields, saw 2\\nSkipping line 17520: expected 1 fields, saw 2\\nSkipping line 17573: expected 1 fields, saw 2\\nSkipping line 17612: expected 1 fields, saw 2\\nSkipping line 17618: expected 1 fields, saw 2\\nSkipping line 17657: expected 1 fields, saw 2\\nSkipping line 17659: expected 1 fields, saw 2\\nSkipping line 17661: expected 1 fields, saw 2\\nSkipping line 17675: expected 1 fields, saw 3\\nSkipping line 17722: expected 1 fields, saw 2\\nSkipping line 17739: expected 1 fields, saw 2\\nSkipping line 17743: expected 1 fields, saw 2\\nSkipping line 17759: expected 1 fields, saw 2\\nSkipping line 17773: expected 1 fields, saw 2\\nSkipping line 17784: expected 1 fields, saw 2\\nSkipping line 17803: expected 1 fields, saw 2\\nSkipping line 17868: expected 1 fields, saw 2\\nSkipping line 17886: expected 1 fields, saw 2\\nSkipping line 17927: expected 1 fields, saw 2\\nSkipping line 17992: expected 1 fields, saw 2\\nSkipping line 17998: expected 1 fields, saw 3\\nSkipping line 18010: expected 1 fields, saw 2\\nSkipping line 18023: expected 1 fields, saw 2\\nSkipping line 18043: expected 1 fields, saw 2\\nSkipping line 18051: expected 1 fields, saw 2\\nSkipping line 18061: expected 1 fields, saw 2\\nSkipping line 18069: expected 1 fields, saw 2\\nSkipping line 18075: expected 1 fields, saw 2\\nSkipping line 18088: expected 1 fields, saw 2\\nSkipping line 18096: expected 1 fields, saw 2\\nSkipping line 18112: expected 1 fields, saw 3\\nSkipping line 18115: expected 1 fields, saw 2\\nSkipping line 18142: expected 1 fields, saw 2\\nSkipping line 18206: expected 1 fields, saw 4\\nSkipping line 18208: expected 1 fields, saw 2\\nSkipping line 18214: expected 1 fields, saw 4\\nSkipping line 18228: expected 1 fields, saw 2\\nSkipping line 18231: expected 1 fields, saw 2\\nSkipping line 18236: expected 1 fields, saw 2\\nSkipping line 18239: expected 1 fields, saw 2\\nSkipping line 18244: expected 1 fields, saw 2\\nSkipping line 18254: expected 1 fields, saw 2\\nSkipping line 18271: expected 1 fields, saw 2\\nSkipping line 18276: expected 1 fields, saw 3\\nSkipping line 18283: expected 1 fields, saw 2\\nSkipping line 18289: expected 1 fields, saw 4\\nSkipping line 18297: expected 1 fields, saw 4\\nSkipping line 18298: expected 1 fields, saw 2\\nSkipping line 18339: expected 1 fields, saw 2\\nSkipping line 18341: expected 1 fields, saw 2\\nSkipping line 18346: expected 1 fields, saw 2\\nSkipping line 18354: expected 1 fields, saw 2\\nSkipping line 18356: expected 1 fields, saw 2\\nSkipping line 18368: expected 1 fields, saw 9\\nSkipping line 18372: expected 1 fields, saw 2\\nSkipping line 18394: expected 1 fields, saw 2\\nSkipping line 18407: expected 1 fields, saw 2\\nSkipping line 18411: expected 1 fields, saw 2\\nSkipping line 18445: expected 1 fields, saw 3\\nSkipping line 18449: expected 1 fields, saw 5\\nSkipping line 18455: expected 1 fields, saw 2\\nSkipping line 18471: expected 1 fields, saw 2\\nSkipping line 18478: expected 1 fields, saw 2\\nSkipping line 18521: expected 1 fields, saw 2\\nSkipping line 18525: expected 1 fields, saw 2\\nSkipping line 18546: expected 1 fields, saw 2\\nSkipping line 18585: expected 1 fields, saw 2\\nSkipping line 18627: expected 1 fields, saw 2\\nSkipping line 18651: expected 1 fields, saw 3\\nSkipping line 18654: expected 1 fields, saw 2\\nSkipping line 18704: expected 1 fields, saw 2\\nSkipping line 18718: expected 1 fields, saw 2\\nSkipping line 18742: expected 1 fields, saw 3\\nSkipping line 18758: expected 1 fields, saw 2\\nSkipping line 18765: expected 1 fields, saw 2\\nSkipping line 18766: expected 1 fields, saw 3\\nSkipping line 18767: expected 1 fields, saw 2\\nSkipping line 18789: expected 1 fields, saw 2\\nSkipping line 18815: expected 1 fields, saw 3\\nSkipping line 18823: expected 1 fields, saw 2\\nSkipping line 18839: expected 1 fields, saw 2\\nSkipping line 18865: expected 1 fields, saw 2\\nSkipping line 18870: expected 1 fields, saw 2\\nSkipping line 18874: expected 1 fields, saw 3\\nSkipping line 18927: expected 1 fields, saw 2\\nSkipping line 18941: expected 1 fields, saw 2\\nSkipping line 18951: expected 1 fields, saw 2\\nSkipping line 18974: expected 1 fields, saw 2\\nSkipping line 18982: expected 1 fields, saw 2\\nSkipping line 18987: expected 1 fields, saw 4\\nSkipping line 19012: expected 1 fields, saw 2\\nSkipping line 19017: expected 1 fields, saw 2\\nSkipping line 19041: expected 1 fields, saw 3\\nSkipping line 19070: expected 1 fields, saw 2\\nSkipping line 19071: expected 1 fields, saw 2\\nSkipping line 19084: expected 1 fields, saw 2\\nSkipping line 19098: expected 1 fields, saw 2\\nSkipping line 19099: expected 1 fields, saw 2\\nSkipping line 19129: expected 1 fields, saw 2\\nSkipping line 19169: expected 1 fields, saw 3\\nSkipping line 19189: expected 1 fields, saw 3\\nSkipping line 19208: expected 1 fields, saw 2\\nSkipping line 19224: expected 1 fields, saw 2\\nSkipping line 19231: expected 1 fields, saw 2\\nSkipping line 19236: expected 1 fields, saw 4\\nSkipping line 19262: expected 1 fields, saw 2\\nSkipping line 19285: expected 1 fields, saw 3\\nSkipping line 19287: expected 1 fields, saw 2\\nSkipping line 19340: expected 1 fields, saw 2\\nSkipping line 19346: expected 1 fields, saw 2\\nSkipping line 19358: expected 1 fields, saw 2\\nSkipping line 19387: expected 1 fields, saw 2\\nSkipping line 19388: expected 1 fields, saw 2\\nSkipping line 19424: expected 1 fields, saw 2\\nSkipping line 19434: expected 1 fields, saw 3\\nSkipping line 19442: expected 1 fields, saw 8\\nSkipping line 19448: expected 1 fields, saw 2\\nSkipping line 19451: expected 1 fields, saw 2\\nSkipping line 19452: expected 1 fields, saw 3\\nSkipping line 19457: expected 1 fields, saw 2\\nSkipping line 19478: expected 1 fields, saw 2\\nSkipping line 19490: expected 1 fields, saw 6\\nSkipping line 19505: expected 1 fields, saw 2\\nSkipping line 19520: expected 1 fields, saw 2\\nSkipping line 19529: expected 1 fields, saw 2\\nSkipping line 19536: expected 1 fields, saw 2\\nSkipping line 19559: expected 1 fields, saw 3\\nSkipping line 19563: expected 1 fields, saw 5\\nSkipping line 19581: expected 1 fields, saw 3\\nSkipping line 19593: expected 1 fields, saw 2\\nSkipping line 19625: expected 1 fields, saw 3\\nSkipping line 19631: expected 1 fields, saw 2\\nSkipping line 19632: expected 1 fields, saw 3\\nSkipping line 19633: expected 1 fields, saw 4\\nSkipping line 19640: expected 1 fields, saw 3\\nSkipping line 19642: expected 1 fields, saw 3\\nSkipping line 19690: expected 1 fields, saw 3\\nSkipping line 19691: expected 1 fields, saw 2\\nSkipping line 19701: expected 1 fields, saw 2\\nSkipping line 19704: expected 1 fields, saw 2\\nSkipping line 19705: expected 1 fields, saw 2\\nSkipping line 19709: expected 1 fields, saw 3\\nSkipping line 19728: expected 1 fields, saw 2\\nSkipping line 19752: expected 1 fields, saw 2\\nSkipping line 19770: expected 1 fields, saw 2\\nSkipping line 19773: expected 1 fields, saw 3\\nSkipping line 19776: expected 1 fields, saw 4\\nSkipping line 19788: expected 1 fields, saw 2\\nSkipping line 19805: expected 1 fields, saw 2\\nSkipping line 19831: expected 1 fields, saw 2\\nSkipping line 19837: expected 1 fields, saw 2\\nSkipping line 19851: expected 1 fields, saw 2\\nSkipping line 19861: expected 1 fields, saw 3\\nSkipping line 19873: expected 1 fields, saw 2\\nSkipping line 19889: expected 1 fields, saw 2\\nSkipping line 19898: expected 1 fields, saw 2\\nSkipping line 19940: expected 1 fields, saw 2\\nSkipping line 19944: expected 1 fields, saw 2\\nSkipping line 19960: expected 1 fields, saw 2\\nSkipping line 20008: expected 1 fields, saw 2\\nSkipping line 20080: expected 1 fields, saw 3\\nSkipping line 20082: expected 1 fields, saw 2\\nSkipping line 20095: expected 1 fields, saw 3\\nSkipping line 20113: expected 1 fields, saw 2\\nSkipping line 20128: expected 1 fields, saw 2\\nSkipping line 20129: expected 1 fields, saw 2\\nSkipping line 20161: expected 1 fields, saw 3\\nSkipping line 20164: expected 1 fields, saw 2\\nSkipping line 20186: expected 1 fields, saw 4\\nSkipping line 20193: expected 1 fields, saw 2\\nSkipping line 20217: expected 1 fields, saw 3\\nSkipping line 20220: expected 1 fields, saw 2\\nSkipping line 20234: expected 1 fields, saw 2\\nSkipping line 20244: expected 1 fields, saw 2\\nSkipping line 20259: expected 1 fields, saw 2\\nSkipping line 20263: expected 1 fields, saw 2\\nSkipping line 20275: expected 1 fields, saw 3\\nSkipping line 20283: expected 1 fields, saw 2\\nSkipping line 20305: expected 1 fields, saw 2\\nSkipping line 20344: expected 1 fields, saw 6\\nSkipping line 20364: expected 1 fields, saw 2\\nSkipping line 20390: expected 1 fields, saw 2\\nSkipping line 20415: expected 1 fields, saw 2\\nSkipping line 20482: expected 1 fields, saw 2\\nSkipping line 20484: expected 1 fields, saw 2\\nSkipping line 20493: expected 1 fields, saw 2\\nSkipping line 20496: expected 1 fields, saw 2\\nSkipping line 20508: expected 1 fields, saw 3\\nSkipping line 20542: expected 1 fields, saw 3\\nSkipping line 20560: expected 1 fields, saw 2\\nSkipping line 20568: expected 1 fields, saw 2\\nSkipping line 20584: expected 1 fields, saw 2\\nSkipping line 20586: expected 1 fields, saw 2\\nSkipping line 20587: expected 1 fields, saw 3\\nSkipping line 20601: expected 1 fields, saw 2\\nSkipping line 20610: expected 1 fields, saw 2\\nSkipping line 20624: expected 1 fields, saw 3\\nSkipping line 20638: expected 1 fields, saw 2\\nSkipping line 20661: expected 1 fields, saw 2\\nSkipping line 20672: expected 1 fields, saw 2\\nSkipping line 20674: expected 1 fields, saw 2\\nSkipping line 20679: expected 1 fields, saw 2\\nSkipping line 20684: expected 1 fields, saw 3\\nSkipping line 20685: expected 1 fields, saw 2\\nSkipping line 20687: expected 1 fields, saw 2\\nSkipping line 20699: expected 1 fields, saw 3\\nSkipping line 20701: expected 1 fields, saw 2\\nSkipping line 20712: expected 1 fields, saw 2\\nSkipping line 20728: expected 1 fields, saw 4\\nSkipping line 20741: expected 1 fields, saw 3\\nSkipping line 20744: expected 1 fields, saw 3\\nSkipping line 20755: expected 1 fields, saw 3\\nSkipping line 20768: expected 1 fields, saw 2\\nSkipping line 20782: expected 1 fields, saw 2\\nSkipping line 20802: expected 1 fields, saw 3\\nSkipping line 20828: expected 1 fields, saw 4\\nSkipping line 20846: expected 1 fields, saw 2\\nSkipping line 20857: expected 1 fields, saw 4\\nSkipping line 20866: expected 1 fields, saw 2\\nSkipping line 20871: expected 1 fields, saw 3\\nSkipping line 20900: expected 1 fields, saw 2\\nSkipping line 20909: expected 1 fields, saw 2\\nSkipping line 20912: expected 1 fields, saw 2\\nSkipping line 20919: expected 1 fields, saw 2\\nSkipping line 20921: expected 1 fields, saw 2\\nSkipping line 20940: expected 1 fields, saw 7\\nSkipping line 20948: expected 1 fields, saw 2\\nSkipping line 20980: expected 1 fields, saw 4\\nSkipping line 20994: expected 1 fields, saw 4\\nSkipping line 21020: expected 1 fields, saw 3\\nSkipping line 21076: expected 1 fields, saw 2\\nSkipping line 21077: expected 1 fields, saw 2\\nSkipping line 21082: expected 1 fields, saw 2\\nSkipping line 21102: expected 1 fields, saw 2\\nSkipping line 21103: expected 1 fields, saw 2\\nSkipping line 21104: expected 1 fields, saw 3\\nSkipping line 21119: expected 1 fields, saw 2\\nSkipping line 21122: expected 1 fields, saw 2\\nSkipping line 21143: expected 1 fields, saw 2\\nSkipping line 21167: expected 1 fields, saw 2\\nSkipping line 21172: expected 1 fields, saw 3\\nSkipping line 21181: expected 1 fields, saw 2\\nSkipping line 21184: expected 1 fields, saw 2\\nSkipping line 21189: expected 1 fields, saw 2\\nSkipping line 21211: expected 1 fields, saw 2\\nSkipping line 21239: expected 1 fields, saw 2\\nSkipping line 21245: expected 1 fields, saw 3\\nSkipping line 21252: expected 1 fields, saw 2\\nSkipping line 21284: expected 1 fields, saw 3\\nSkipping line 21298: expected 1 fields, saw 2\\nSkipping line 21317: expected 1 fields, saw 2\\nSkipping line 21324: expected 1 fields, saw 2\\nSkipping line 21327: expected 1 fields, saw 2\\nSkipping line 21350: expected 1 fields, saw 3\\nSkipping line 21361: expected 1 fields, saw 3\\nSkipping line 21364: expected 1 fields, saw 2\\nSkipping line 21377: expected 1 fields, saw 2\\nSkipping line 21384: expected 1 fields, saw 4\\nSkipping line 21402: expected 1 fields, saw 2\\nSkipping line 21405: expected 1 fields, saw 3\\nSkipping line 21416: expected 1 fields, saw 2\\nSkipping line 21417: expected 1 fields, saw 2\\nSkipping line 21422: expected 1 fields, saw 2\\nSkipping line 21429: expected 1 fields, saw 2\\nSkipping line 21437: expected 1 fields, saw 2\\nSkipping line 21441: expected 1 fields, saw 2\\nSkipping line 21446: expected 1 fields, saw 2\\nSkipping line 21458: expected 1 fields, saw 2\\nSkipping line 21460: expected 1 fields, saw 2\\nSkipping line 21466: expected 1 fields, saw 2\\nSkipping line 21484: expected 1 fields, saw 2\\nSkipping line 21514: expected 1 fields, saw 2\\nSkipping line 21517: expected 1 fields, saw 2\\nSkipping line 21529: expected 1 fields, saw 2\\nSkipping line 21533: expected 1 fields, saw 2\\nSkipping line 21534: expected 1 fields, saw 2\\nSkipping line 21555: expected 1 fields, saw 2\\nSkipping line 21567: expected 1 fields, saw 2\\nSkipping line 21576: expected 1 fields, saw 2\\nSkipping line 21595: expected 1 fields, saw 2\\nSkipping line 21627: expected 1 fields, saw 2\\nSkipping line 21640: expected 1 fields, saw 2\\nSkipping line 21647: expected 1 fields, saw 2\\nSkipping line 21652: expected 1 fields, saw 2\\nSkipping line 21664: expected 1 fields, saw 2\\nSkipping line 21732: expected 1 fields, saw 2\\nSkipping line 21733: expected 1 fields, saw 3\\nSkipping line 21735: expected 1 fields, saw 4\\nSkipping line 21739: expected 1 fields, saw 2\\nSkipping line 21745: expected 1 fields, saw 2\\nSkipping line 21768: expected 1 fields, saw 2\\nSkipping line 21775: expected 1 fields, saw 2\\nSkipping line 21811: expected 1 fields, saw 3\\nSkipping line 21816: expected 1 fields, saw 2\\nSkipping line 21839: expected 1 fields, saw 2\\nSkipping line 21840: expected 1 fields, saw 2\\nSkipping line 21845: expected 1 fields, saw 2\\nSkipping line 21858: expected 1 fields, saw 2\\nSkipping line 21862: expected 1 fields, saw 3\\nSkipping line 21863: expected 1 fields, saw 2\\nSkipping line 21869: expected 1 fields, saw 2\\nSkipping line 21916: expected 1 fields, saw 2\\nSkipping line 21930: expected 1 fields, saw 2\\nSkipping line 21943: expected 1 fields, saw 2\\nSkipping line 21953: expected 1 fields, saw 2\\nSkipping line 21969: expected 1 fields, saw 3\\nSkipping line 21978: expected 1 fields, saw 3\\nSkipping line 22003: expected 1 fields, saw 2\\nSkipping line 22013: expected 1 fields, saw 2\\nSkipping line 22022: expected 1 fields, saw 2\\nSkipping line 22035: expected 1 fields, saw 5\\nSkipping line 22052: expected 1 fields, saw 3\\nSkipping line 22053: expected 1 fields, saw 2\\nSkipping line 22108: expected 1 fields, saw 2\\nSkipping line 22118: expected 1 fields, saw 2\\nSkipping line 22138: expected 1 fields, saw 2\\nSkipping line 22147: expected 1 fields, saw 2\\nSkipping line 22148: expected 1 fields, saw 2\\nSkipping line 22153: expected 1 fields, saw 2\\nSkipping line 22171: expected 1 fields, saw 2\\nSkipping line 22177: expected 1 fields, saw 3\\nSkipping line 22197: expected 1 fields, saw 2\\nSkipping line 22224: expected 1 fields, saw 3\\nSkipping line 22245: expected 1 fields, saw 2\\nSkipping line 22254: expected 1 fields, saw 2\\nSkipping line 22256: expected 1 fields, saw 3\\nSkipping line 22259: expected 1 fields, saw 2\\nSkipping line 22267: expected 1 fields, saw 2\\nSkipping line 22272: expected 1 fields, saw 2\\nSkipping line 22278: expected 1 fields, saw 2\\nSkipping line 22279: expected 1 fields, saw 2\\nSkipping line 22287: expected 1 fields, saw 2\\nSkipping line 22296: expected 1 fields, saw 2\\nSkipping line 22303: expected 1 fields, saw 2\\nSkipping line 22317: expected 1 fields, saw 2\\nSkipping line 22325: expected 1 fields, saw 3\\nSkipping line 22326: expected 1 fields, saw 2\\nSkipping line 22334: expected 1 fields, saw 3\\nSkipping line 22335: expected 1 fields, saw 2\\nSkipping line 22340: expected 1 fields, saw 2\\nSkipping line 22355: expected 1 fields, saw 3\\nSkipping line 22373: expected 1 fields, saw 2\\nSkipping line 22397: expected 1 fields, saw 2\\nSkipping line 22414: expected 1 fields, saw 2\\nSkipping line 22457: expected 1 fields, saw 2\\nSkipping line 22466: expected 1 fields, saw 2\\nSkipping line 22506: expected 1 fields, saw 2\\nSkipping line 22508: expected 1 fields, saw 3\\nSkipping line 22517: expected 1 fields, saw 2\\nSkipping line 22521: expected 1 fields, saw 2\\nSkipping line 22538: expected 1 fields, saw 2\\nSkipping line 22543: expected 1 fields, saw 5\\nSkipping line 22550: expected 1 fields, saw 3\\nSkipping line 22564: expected 1 fields, saw 2\\nSkipping line 22585: expected 1 fields, saw 2\\nSkipping line 22600: expected 1 fields, saw 2\\nSkipping line 22614: expected 1 fields, saw 2\\nSkipping line 22658: expected 1 fields, saw 2\\nSkipping line 22714: expected 1 fields, saw 5\\nSkipping line 22719: expected 1 fields, saw 2\\nSkipping line 22723: expected 1 fields, saw 2\\nSkipping line 22725: expected 1 fields, saw 2\\nSkipping line 22729: expected 1 fields, saw 2\\nSkipping line 22732: expected 1 fields, saw 2\\nSkipping line 22755: expected 1 fields, saw 3\\nSkipping line 22788: expected 1 fields, saw 2\\nSkipping line 22792: expected 1 fields, saw 2\\nSkipping line 22797: expected 1 fields, saw 2\\nSkipping line 22803: expected 1 fields, saw 2\\nSkipping line 22817: expected 1 fields, saw 2\\nSkipping line 22827: expected 1 fields, saw 2\\nSkipping line 22842: expected 1 fields, saw 2\\nSkipping line 22853: expected 1 fields, saw 2\\nSkipping line 22866: expected 1 fields, saw 2\\nSkipping line 22875: expected 1 fields, saw 3\\nSkipping line 22885: expected 1 fields, saw 2\\nSkipping line 22889: expected 1 fields, saw 5\\nSkipping line 22901: expected 1 fields, saw 3\\nSkipping line 22903: expected 1 fields, saw 2\\nSkipping line 22905: expected 1 fields, saw 3\\nSkipping line 22932: expected 1 fields, saw 3\\nSkipping line 22953: expected 1 fields, saw 2\\nSkipping line 22967: expected 1 fields, saw 3\\nSkipping line 22973: expected 1 fields, saw 3\\nSkipping line 23017: expected 1 fields, saw 2\\nSkipping line 23037: expected 1 fields, saw 3\\nSkipping line 23042: expected 1 fields, saw 2\\nSkipping line 23048: expected 1 fields, saw 2\\nSkipping line 23055: expected 1 fields, saw 2\\nSkipping line 23058: expected 1 fields, saw 3\\nSkipping line 23075: expected 1 fields, saw 2\\nSkipping line 23100: expected 1 fields, saw 2\\nSkipping line 23128: expected 1 fields, saw 2\\nSkipping line 23140: expected 1 fields, saw 2\\nSkipping line 23153: expected 1 fields, saw 2\\nSkipping line 23158: expected 1 fields, saw 2\\nSkipping line 23181: expected 1 fields, saw 3\\nSkipping line 23183: expected 1 fields, saw 2\\nSkipping line 23212: expected 1 fields, saw 2\\nSkipping line 23238: expected 1 fields, saw 2\\nSkipping line 23244: expected 1 fields, saw 3\\nSkipping line 23246: expected 1 fields, saw 2\\nSkipping line 23263: expected 1 fields, saw 3\\nSkipping line 23268: expected 1 fields, saw 2\\nSkipping line 23280: expected 1 fields, saw 2\\nSkipping line 23331: expected 1 fields, saw 2\\nSkipping line 23352: expected 1 fields, saw 2\\nSkipping line 23356: expected 1 fields, saw 2\\nSkipping line 23377: expected 1 fields, saw 3\\nSkipping line 23378: expected 1 fields, saw 2\\nSkipping line 23388: expected 1 fields, saw 2\\nSkipping line 23390: expected 1 fields, saw 2\\nSkipping line 23392: expected 1 fields, saw 2\\nSkipping line 23408: expected 1 fields, saw 2\\nSkipping line 23411: expected 1 fields, saw 2\\nSkipping line 23431: expected 1 fields, saw 4\\nSkipping line 23442: expected 1 fields, saw 2\\nSkipping line 23448: expected 1 fields, saw 2\\nSkipping line 23468: expected 1 fields, saw 2\\nSkipping line 23503: expected 1 fields, saw 2\\nSkipping line 23508: expected 1 fields, saw 2\\nSkipping line 23522: expected 1 fields, saw 2\\nSkipping line 23523: expected 1 fields, saw 2\\nSkipping line 23553: expected 1 fields, saw 2\\nSkipping line 23567: expected 1 fields, saw 3\\nSkipping line 23581: expected 1 fields, saw 2\\nSkipping line 23601: expected 1 fields, saw 3\\nSkipping line 23608: expected 1 fields, saw 3\\nSkipping line 23609: expected 1 fields, saw 2\\nSkipping line 23622: expected 1 fields, saw 2\\nSkipping line 23627: expected 1 fields, saw 3\\nSkipping line 23630: expected 1 fields, saw 2\\nSkipping line 23641: expected 1 fields, saw 2\\nSkipping line 23659: expected 1 fields, saw 2\\nSkipping line 23664: expected 1 fields, saw 2\\nSkipping line 23692: expected 1 fields, saw 2\\nSkipping line 23698: expected 1 fields, saw 3\\nSkipping line 23704: expected 1 fields, saw 3\\nSkipping line 23722: expected 1 fields, saw 2\\nSkipping line 23731: expected 1 fields, saw 2\\nSkipping line 23742: expected 1 fields, saw 2\\nSkipping line 23743: expected 1 fields, saw 3\\nSkipping line 23755: expected 1 fields, saw 5\\nSkipping line 23760: expected 1 fields, saw 2\\nSkipping line 23767: expected 1 fields, saw 2\\nSkipping line 23769: expected 1 fields, saw 3\\nSkipping line 23780: expected 1 fields, saw 2\\nSkipping line 23799: expected 1 fields, saw 3\\nSkipping line 23822: expected 1 fields, saw 3\\nSkipping line 23823: expected 1 fields, saw 3\\nSkipping line 23844: expected 1 fields, saw 3\\nSkipping line 23857: expected 1 fields, saw 2\\nSkipping line 23899: expected 1 fields, saw 2\\nSkipping line 23922: expected 1 fields, saw 3\\nSkipping line 23923: expected 1 fields, saw 2\\nSkipping line 23926: expected 1 fields, saw 2\\nSkipping line 23951: expected 1 fields, saw 2\\nSkipping line 23954: expected 1 fields, saw 2\\nSkipping line 23958: expected 1 fields, saw 2\\nSkipping line 23963: expected 1 fields, saw 2\\nSkipping line 23974: expected 1 fields, saw 3\\nSkipping line 23983: expected 1 fields, saw 2\\nSkipping line 23997: expected 1 fields, saw 2\\nSkipping line 24015: expected 1 fields, saw 2\\nSkipping line 24016: expected 1 fields, saw 2\\nSkipping line 24046: expected 1 fields, saw 2\\nSkipping line 24062: expected 1 fields, saw 2\\nSkipping line 24083: expected 1 fields, saw 2\\nSkipping line 24091: expected 1 fields, saw 2\\nSkipping line 24112: expected 1 fields, saw 2\\nSkipping line 24122: expected 1 fields, saw 2\\nSkipping line 24174: expected 1 fields, saw 3\\nSkipping line 24197: expected 1 fields, saw 2\\nSkipping line 24238: expected 1 fields, saw 2\\nSkipping line 24240: expected 1 fields, saw 2\\nSkipping line 24248: expected 1 fields, saw 7\\nSkipping line 24250: expected 1 fields, saw 2\\nSkipping line 24284: expected 1 fields, saw 3\\nSkipping line 24301: expected 1 fields, saw 2\\nSkipping line 24305: expected 1 fields, saw 2\\nSkipping line 24310: expected 1 fields, saw 2\\nSkipping line 24311: expected 1 fields, saw 3\\nSkipping line 24322: expected 1 fields, saw 2\\nSkipping line 24323: expected 1 fields, saw 2\\nSkipping line 24328: expected 1 fields, saw 2\\nSkipping line 24329: expected 1 fields, saw 2\\nSkipping line 24339: expected 1 fields, saw 2\\nSkipping line 24363: expected 1 fields, saw 3\\nSkipping line 24374: expected 1 fields, saw 2\\nSkipping line 24388: expected 1 fields, saw 3\\nSkipping line 24389: expected 1 fields, saw 2\\nSkipping line 24395: expected 1 fields, saw 4\\nSkipping line 24413: expected 1 fields, saw 2\\nSkipping line 24426: expected 1 fields, saw 2\\nSkipping line 24436: expected 1 fields, saw 2\\nSkipping line 24475: expected 1 fields, saw 2\\nSkipping line 24485: expected 1 fields, saw 2\\nSkipping line 24494: expected 1 fields, saw 2\\nSkipping line 24502: expected 1 fields, saw 2\\nSkipping line 24509: expected 1 fields, saw 3\\nSkipping line 24515: expected 1 fields, saw 2\\nSkipping line 24536: expected 1 fields, saw 2\\nSkipping line 24548: expected 1 fields, saw 2\\nSkipping line 24576: expected 1 fields, saw 2\\nSkipping line 24577: expected 1 fields, saw 2\\nSkipping line 24599: expected 1 fields, saw 2\\nSkipping line 24607: expected 1 fields, saw 2\\nSkipping line 24618: expected 1 fields, saw 2\\nSkipping line 24626: expected 1 fields, saw 2\\nSkipping line 24636: expected 1 fields, saw 2\\nSkipping line 24648: expected 1 fields, saw 4\\nSkipping line 24654: expected 1 fields, saw 2\\nSkipping line 24685: expected 1 fields, saw 2\\nSkipping line 24688: expected 1 fields, saw 2\\nSkipping line 24712: expected 1 fields, saw 2\\nSkipping line 24728: expected 1 fields, saw 2\\nSkipping line 24747: expected 1 fields, saw 2\\nSkipping line 24751: expected 1 fields, saw 2\\nSkipping line 24758: expected 1 fields, saw 2\\nSkipping line 24784: expected 1 fields, saw 4\\nSkipping line 24805: expected 1 fields, saw 2\\nSkipping line 24812: expected 1 fields, saw 2\\nSkipping line 24819: expected 1 fields, saw 4\\nSkipping line 24868: expected 1 fields, saw 3\\nSkipping line 24871: expected 1 fields, saw 2\\nSkipping line 24897: expected 1 fields, saw 2\\nSkipping line 24898: expected 1 fields, saw 2\\nSkipping line 24899: expected 1 fields, saw 2\\nSkipping line 24920: expected 1 fields, saw 2\\nSkipping line 24947: expected 1 fields, saw 2\\nSkipping line 24950: expected 1 fields, saw 2\\nSkipping line 24955: expected 1 fields, saw 2\\nSkipping line 24958: expected 1 fields, saw 2\\nSkipping line 24973: expected 1 fields, saw 2\\nSkipping line 24982: expected 1 fields, saw 2\\nSkipping line 24987: expected 1 fields, saw 5\\nSkipping line 25001: expected 1 fields, saw 2\\nSkipping line 25015: expected 1 fields, saw 2\\nSkipping line 25017: expected 1 fields, saw 2\\nSkipping line 25022: expected 1 fields, saw 2\\nSkipping line 25024: expected 1 fields, saw 2\\nSkipping line 25049: expected 1 fields, saw 2\\nSkipping line 25087: expected 1 fields, saw 2\\nSkipping line 25102: expected 1 fields, saw 2\\nSkipping line 25110: expected 1 fields, saw 2\\nSkipping line 25148: expected 1 fields, saw 2\\nSkipping line 25178: expected 1 fields, saw 2\\nSkipping line 25197: expected 1 fields, saw 2\\nSkipping line 25198: expected 1 fields, saw 2\\nSkipping line 25213: expected 1 fields, saw 2\\nSkipping line 25224: expected 1 fields, saw 2\\nSkipping line 25244: expected 1 fields, saw 8\\nSkipping line 25248: expected 1 fields, saw 2\\nSkipping line 25251: expected 1 fields, saw 2\\nSkipping line 25261: expected 1 fields, saw 2\\nSkipping line 25275: expected 1 fields, saw 2\\nSkipping line 25289: expected 1 fields, saw 2\\nSkipping line 25292: expected 1 fields, saw 2\\nSkipping line 25297: expected 1 fields, saw 3\\nSkipping line 25353: expected 1 fields, saw 2\\nSkipping line 25370: expected 1 fields, saw 3\\nSkipping line 25375: expected 1 fields, saw 2\\nSkipping line 25386: expected 1 fields, saw 2\\nSkipping line 25408: expected 1 fields, saw 2\\nSkipping line 25441: expected 1 fields, saw 2\\nSkipping line 25453: expected 1 fields, saw 3\\nSkipping line 25489: expected 1 fields, saw 3\\nSkipping line 25513: expected 1 fields, saw 3\\nSkipping line 25527: expected 1 fields, saw 2\\nSkipping line 25547: expected 1 fields, saw 2\\nSkipping line 25551: expected 1 fields, saw 2\\nSkipping line 25562: expected 1 fields, saw 2\\nSkipping line 25597: expected 1 fields, saw 2\\nSkipping line 25604: expected 1 fields, saw 2\\nSkipping line 25608: expected 1 fields, saw 2\\nSkipping line 25616: expected 1 fields, saw 6\\nSkipping line 25633: expected 1 fields, saw 2\\nSkipping line 25642: expected 1 fields, saw 2\\nSkipping line 25647: expected 1 fields, saw 3\\nSkipping line 25649: expected 1 fields, saw 3\\nSkipping line 25673: expected 1 fields, saw 3\\nSkipping line 25677: expected 1 fields, saw 2\\nSkipping line 25689: expected 1 fields, saw 2\\nSkipping line 25701: expected 1 fields, saw 2\\nSkipping line 25714: expected 1 fields, saw 2\\nSkipping line 25716: expected 1 fields, saw 2\\nSkipping line 25725: expected 1 fields, saw 2\\nSkipping line 25748: expected 1 fields, saw 2\\nSkipping line 25759: expected 1 fields, saw 2\\nSkipping line 25784: expected 1 fields, saw 7\\nSkipping line 25794: expected 1 fields, saw 2\\nSkipping line 25802: expected 1 fields, saw 3\\nSkipping line 25835: expected 1 fields, saw 2\\nSkipping line 25842: expected 1 fields, saw 2\\nSkipping line 25879: expected 1 fields, saw 2\\nSkipping line 25880: expected 1 fields, saw 2\\nSkipping line 25883: expected 1 fields, saw 3\\nSkipping line 25892: expected 1 fields, saw 2\\nSkipping line 25921: expected 1 fields, saw 2\\nSkipping line 25929: expected 1 fields, saw 2\\nSkipping line 25932: expected 1 fields, saw 3\\nSkipping line 25971: expected 1 fields, saw 2\\nSkipping line 25994: expected 1 fields, saw 2\\nSkipping line 26017: expected 1 fields, saw 3\\nSkipping line 26050: expected 1 fields, saw 4\\nSkipping line 26054: expected 1 fields, saw 2\\nSkipping line 26056: expected 1 fields, saw 2\\nSkipping line 26068: expected 1 fields, saw 2\\nSkipping line 26089: expected 1 fields, saw 3\\nSkipping line 26109: expected 1 fields, saw 2\\nSkipping line 26121: expected 1 fields, saw 2\\nSkipping line 26135: expected 1 fields, saw 2\\nSkipping line 26148: expected 1 fields, saw 3\\nSkipping line 26163: expected 1 fields, saw 2\\nSkipping line 26169: expected 1 fields, saw 2\\nSkipping line 26193: expected 1 fields, saw 2\\nSkipping line 26251: expected 1 fields, saw 3\\nSkipping line 26276: expected 1 fields, saw 3\\nSkipping line 26293: expected 1 fields, saw 2\\nSkipping line 26304: expected 1 fields, saw 4\\nSkipping line 26333: expected 1 fields, saw 2\\nSkipping line 26334: expected 1 fields, saw 2\\nSkipping line 26341: expected 1 fields, saw 2\\nSkipping line 26359: expected 1 fields, saw 3\\nSkipping line 26387: expected 1 fields, saw 3\\nSkipping line 26388: expected 1 fields, saw 3\\nSkipping line 26394: expected 1 fields, saw 2\\nSkipping line 26467: expected 1 fields, saw 2\\nSkipping line 26498: expected 1 fields, saw 2\\nSkipping line 26500: expected 1 fields, saw 2\\nSkipping line 26537: expected 1 fields, saw 2\\nSkipping line 26543: expected 1 fields, saw 2\\nSkipping line 26593: expected 1 fields, saw 2\\nSkipping line 26595: expected 1 fields, saw 4\\nSkipping line 26597: expected 1 fields, saw 2\\nSkipping line 26601: expected 1 fields, saw 2\\nSkipping line 26629: expected 1 fields, saw 3\\nSkipping line 26645: expected 1 fields, saw 3\\nSkipping line 26652: expected 1 fields, saw 3\\nSkipping line 26704: expected 1 fields, saw 2\\nSkipping line 26743: expected 1 fields, saw 2\\nSkipping line 26761: expected 1 fields, saw 2\\nSkipping line 26793: expected 1 fields, saw 3\\nSkipping line 26819: expected 1 fields, saw 2\\nSkipping line 26822: expected 1 fields, saw 2\\nSkipping line 26833: expected 1 fields, saw 2\\nSkipping line 26850: expected 1 fields, saw 2\\nSkipping line 26853: expected 1 fields, saw 2\\nSkipping line 26854: expected 1 fields, saw 2\\nSkipping line 26861: expected 1 fields, saw 2\\nSkipping line 26866: expected 1 fields, saw 2\\nSkipping line 26867: expected 1 fields, saw 2\\nSkipping line 26877: expected 1 fields, saw 2\\nSkipping line 26885: expected 1 fields, saw 2\\nSkipping line 26890: expected 1 fields, saw 2\\nSkipping line 26904: expected 1 fields, saw 2\\nSkipping line 26939: expected 1 fields, saw 3\\nSkipping line 26969: expected 1 fields, saw 2\\nSkipping line 26977: expected 1 fields, saw 2\\nSkipping line 27019: expected 1 fields, saw 2\\nSkipping line 27023: expected 1 fields, saw 2\\nSkipping line 27031: expected 1 fields, saw 3\\nSkipping line 27039: expected 1 fields, saw 2\\nSkipping line 27050: expected 1 fields, saw 3\\nSkipping line 27110: expected 1 fields, saw 2\\nSkipping line 27119: expected 1 fields, saw 2\\nSkipping line 27134: expected 1 fields, saw 2\\nSkipping line 27138: expected 1 fields, saw 2\\nSkipping line 27151: expected 1 fields, saw 3\\nSkipping line 27153: expected 1 fields, saw 2\\nSkipping line 27197: expected 1 fields, saw 2\\nSkipping line 27209: expected 1 fields, saw 2\\nSkipping line 27226: expected 1 fields, saw 3\\nSkipping line 27229: expected 1 fields, saw 2\\nSkipping line 27242: expected 1 fields, saw 2\\nSkipping line 27252: expected 1 fields, saw 2\\nSkipping line 27264: expected 1 fields, saw 2\\nSkipping line 27268: expected 1 fields, saw 5\\nSkipping line 27307: expected 1 fields, saw 2\\nSkipping line 27314: expected 1 fields, saw 2\\nSkipping line 27315: expected 1 fields, saw 2\\nSkipping line 27319: expected 1 fields, saw 2\\nSkipping line 27353: expected 1 fields, saw 3\\nSkipping line 27363: expected 1 fields, saw 2\\nSkipping line 27376: expected 1 fields, saw 4\\nSkipping line 27386: expected 1 fields, saw 2\\nSkipping line 27408: expected 1 fields, saw 2\\nSkipping line 27441: expected 1 fields, saw 2\\nSkipping line 27459: expected 1 fields, saw 2\\nSkipping line 27484: expected 1 fields, saw 2\\nSkipping line 27499: expected 1 fields, saw 2\\nSkipping line 27505: expected 1 fields, saw 3\\nSkipping line 27528: expected 1 fields, saw 5\\nSkipping line 27532: expected 1 fields, saw 3\\nSkipping line 27594: expected 1 fields, saw 2\\nSkipping line 27616: expected 1 fields, saw 2\\nSkipping line 27619: expected 1 fields, saw 2\\nSkipping line 27625: expected 1 fields, saw 2\\nSkipping line 27634: expected 1 fields, saw 3\\nSkipping line 27651: expected 1 fields, saw 3\\nSkipping line 27668: expected 1 fields, saw 3\\nSkipping line 27680: expected 1 fields, saw 2\\nSkipping line 27689: expected 1 fields, saw 2\\nSkipping line 27699: expected 1 fields, saw 2\\nSkipping line 27707: expected 1 fields, saw 2\\nSkipping line 27726: expected 1 fields, saw 3\\nSkipping line 27728: expected 1 fields, saw 2\\nSkipping line 27764: expected 1 fields, saw 3\\nSkipping line 27766: expected 1 fields, saw 2\\nSkipping line 27773: expected 1 fields, saw 2\\nSkipping line 27785: expected 1 fields, saw 2\\nSkipping line 27788: expected 1 fields, saw 2\\nSkipping line 27809: expected 1 fields, saw 2\\nSkipping line 27836: expected 1 fields, saw 2\\nSkipping line 27839: expected 1 fields, saw 4\\nSkipping line 27840: expected 1 fields, saw 2\\nSkipping line 27844: expected 1 fields, saw 2\\nSkipping line 27856: expected 1 fields, saw 3\\nSkipping line 27863: expected 1 fields, saw 2\\nSkipping line 27871: expected 1 fields, saw 3\\nSkipping line 27877: expected 1 fields, saw 2\\nSkipping line 27898: expected 1 fields, saw 2\\nSkipping line 27906: expected 1 fields, saw 4\\nSkipping line 27918: expected 1 fields, saw 2\\nSkipping line 27947: expected 1 fields, saw 2\\nSkipping line 27972: expected 1 fields, saw 2\\nSkipping line 27984: expected 1 fields, saw 3\\nSkipping line 28033: expected 1 fields, saw 2\\nSkipping line 28039: expected 1 fields, saw 2\\nSkipping line 28043: expected 1 fields, saw 2\\nSkipping line 28065: expected 1 fields, saw 2\\nSkipping line 28085: expected 1 fields, saw 2\\nSkipping line 28100: expected 1 fields, saw 2\\nSkipping line 28108: expected 1 fields, saw 5\\nSkipping line 28117: expected 1 fields, saw 2\\nSkipping line 28125: expected 1 fields, saw 2\\nSkipping line 28145: expected 1 fields, saw 3\\nSkipping line 28150: expected 1 fields, saw 3\\nSkipping line 28153: expected 1 fields, saw 2\\nSkipping line 28157: expected 1 fields, saw 2\\nSkipping line 28183: expected 1 fields, saw 2\\nSkipping line 28191: expected 1 fields, saw 2\\nSkipping line 28226: expected 1 fields, saw 2\\nSkipping line 28249: expected 1 fields, saw 3\\nSkipping line 28264: expected 1 fields, saw 2\\nSkipping line 28269: expected 1 fields, saw 3\\nSkipping line 28271: expected 1 fields, saw 2\\nSkipping line 28276: expected 1 fields, saw 2\\nSkipping line 28278: expected 1 fields, saw 2\\nSkipping line 28282: expected 1 fields, saw 2\\nSkipping line 28378: expected 1 fields, saw 2\\nSkipping line 28399: expected 1 fields, saw 2\\nSkipping line 28415: expected 1 fields, saw 3\\nSkipping line 28423: expected 1 fields, saw 2\\nSkipping line 28427: expected 1 fields, saw 2\\nSkipping line 28442: expected 1 fields, saw 2\\nSkipping line 28446: expected 1 fields, saw 2\\nSkipping line 28486: expected 1 fields, saw 2\\nSkipping line 28554: expected 1 fields, saw 2\\nSkipping line 28561: expected 1 fields, saw 2\\nSkipping line 28585: expected 1 fields, saw 2\\nSkipping line 28589: expected 1 fields, saw 2\\nSkipping line 28605: expected 1 fields, saw 2\\nSkipping line 28613: expected 1 fields, saw 3\\nSkipping line 28629: expected 1 fields, saw 3\\nSkipping line 28638: expected 1 fields, saw 2\\nSkipping line 28643: expected 1 fields, saw 2\\nSkipping line 28650: expected 1 fields, saw 4\\nSkipping line 28663: expected 1 fields, saw 2\\nSkipping line 28675: expected 1 fields, saw 3\\nSkipping line 28692: expected 1 fields, saw 2\\nSkipping line 28713: expected 1 fields, saw 2\\nSkipping line 28743: expected 1 fields, saw 2\\nSkipping line 28750: expected 1 fields, saw 2\\nSkipping line 28757: expected 1 fields, saw 2\\nSkipping line 28764: expected 1 fields, saw 8\\nSkipping line 28765: expected 1 fields, saw 2\\nSkipping line 28782: expected 1 fields, saw 2\\nSkipping line 28816: expected 1 fields, saw 2\\nSkipping line 28822: expected 1 fields, saw 2\\nSkipping line 28827: expected 1 fields, saw 2\\nSkipping line 28829: expected 1 fields, saw 2\\nSkipping line 28835: expected 1 fields, saw 2\\nSkipping line 28855: expected 1 fields, saw 2\\nSkipping line 28858: expected 1 fields, saw 2\\nSkipping line 28872: expected 1 fields, saw 2\\nSkipping line 28888: expected 1 fields, saw 2\\nSkipping line 28896: expected 1 fields, saw 2\\nSkipping line 28903: expected 1 fields, saw 2\\nSkipping line 28909: expected 1 fields, saw 2\\nSkipping line 28914: expected 1 fields, saw 2\\nSkipping line 28927: expected 1 fields, saw 2\\nSkipping line 28936: expected 1 fields, saw 3\\nSkipping line 28946: expected 1 fields, saw 2\\nSkipping line 28961: expected 1 fields, saw 2\\nSkipping line 28963: expected 1 fields, saw 3\\nSkipping line 28965: expected 1 fields, saw 4\\nSkipping line 28976: expected 1 fields, saw 3\\nSkipping line 28981: expected 1 fields, saw 2\\nSkipping line 28996: expected 1 fields, saw 2\\nSkipping line 29001: expected 1 fields, saw 3\\nSkipping line 29011: expected 1 fields, saw 2\\nSkipping line 29016: expected 1 fields, saw 2\\nSkipping line 29018: expected 1 fields, saw 4\\nSkipping line 29021: expected 1 fields, saw 2\\nSkipping line 29027: expected 1 fields, saw 2\\nSkipping line 29073: expected 1 fields, saw 2\\nSkipping line 29110: expected 1 fields, saw 2\\nSkipping line 29121: expected 1 fields, saw 2\\nSkipping line 29132: expected 1 fields, saw 2\\nSkipping line 29134: expected 1 fields, saw 2\\nSkipping line 29141: expected 1 fields, saw 6\\nSkipping line 29176: expected 1 fields, saw 4\\nSkipping line 29179: expected 1 fields, saw 2\\nSkipping line 29181: expected 1 fields, saw 3\\nSkipping line 29199: expected 1 fields, saw 2\\nSkipping line 29205: expected 1 fields, saw 2\\nSkipping line 29212: expected 1 fields, saw 3\\nSkipping line 29232: expected 1 fields, saw 2\\nSkipping line 29244: expected 1 fields, saw 4\\nSkipping line 29265: expected 1 fields, saw 2\\nSkipping line 29292: expected 1 fields, saw 3\\nSkipping line 29304: expected 1 fields, saw 2\\nSkipping line 29323: expected 1 fields, saw 2\\nSkipping line 29337: expected 1 fields, saw 2\\nSkipping line 29344: expected 1 fields, saw 3\\nSkipping line 29377: expected 1 fields, saw 2\\nSkipping line 29382: expected 1 fields, saw 3\\nSkipping line 29394: expected 1 fields, saw 2\\nSkipping line 29400: expected 1 fields, saw 2\\nSkipping line 29438: expected 1 fields, saw 2\\nSkipping line 29473: expected 1 fields, saw 2\\nSkipping line 29476: expected 1 fields, saw 2\\nSkipping line 29497: expected 1 fields, saw 3\\nSkipping line 29503: expected 1 fields, saw 2\\nSkipping line 29509: expected 1 fields, saw 2\\nSkipping line 29515: expected 1 fields, saw 4\\nSkipping line 29564: expected 1 fields, saw 2\\nSkipping line 29584: expected 1 fields, saw 2\\nSkipping line 29599: expected 1 fields, saw 3\\nSkipping line 29613: expected 1 fields, saw 2\\nSkipping line 29631: expected 1 fields, saw 2\\nSkipping line 29635: expected 1 fields, saw 3\\nSkipping line 29652: expected 1 fields, saw 2\\nSkipping line 29659: expected 1 fields, saw 2\\nSkipping line 29663: expected 1 fields, saw 2\\nSkipping line 29665: expected 1 fields, saw 2\\nSkipping line 29667: expected 1 fields, saw 2\\nSkipping line 29675: expected 1 fields, saw 2\\nSkipping line 29682: expected 1 fields, saw 3\\nSkipping line 29684: expected 1 fields, saw 2\\nSkipping line 29706: expected 1 fields, saw 2\\nSkipping line 29716: expected 1 fields, saw 2\\nSkipping line 29742: expected 1 fields, saw 2\\nSkipping line 29744: expected 1 fields, saw 2\\nSkipping line 29745: expected 1 fields, saw 2\\nSkipping line 29748: expected 1 fields, saw 2\\nSkipping line 29760: expected 1 fields, saw 2\\nSkipping line 29812: expected 1 fields, saw 2\\nSkipping line 29815: expected 1 fields, saw 3\\nSkipping line 29821: expected 1 fields, saw 2\\nSkipping line 29850: expected 1 fields, saw 2\\nSkipping line 29870: expected 1 fields, saw 2\\nSkipping line 29874: expected 1 fields, saw 2\\nSkipping line 29911: expected 1 fields, saw 2\\nSkipping line 29928: expected 1 fields, saw 2\\nSkipping line 29938: expected 1 fields, saw 3\\nSkipping line 29943: expected 1 fields, saw 5\\nSkipping line 29989: expected 1 fields, saw 2\\nSkipping line 29995: expected 1 fields, saw 2\\nSkipping line 29998: expected 1 fields, saw 2\\nSkipping line 30010: expected 1 fields, saw 2\\nSkipping line 30016: expected 1 fields, saw 2\\nSkipping line 30033: expected 1 fields, saw 2\\nSkipping line 30038: expected 1 fields, saw 2\\nSkipping line 30066: expected 1 fields, saw 2\\nSkipping line 30068: expected 1 fields, saw 2\\nSkipping line 30074: expected 1 fields, saw 2\\nSkipping line 30082: expected 1 fields, saw 4\\nSkipping line 30099: expected 1 fields, saw 2\\nSkipping line 30122: expected 1 fields, saw 2\\nSkipping line 30153: expected 1 fields, saw 2\\nSkipping line 30178: expected 1 fields, saw 2\\nSkipping line 30183: expected 1 fields, saw 2\\nSkipping line 30184: expected 1 fields, saw 2\\nSkipping line 30185: expected 1 fields, saw 2\\nSkipping line 30190: expected 1 fields, saw 2\\nSkipping line 30192: expected 1 fields, saw 2\\nSkipping line 30193: expected 1 fields, saw 3\\nSkipping line 30216: expected 1 fields, saw 2\\nSkipping line 30243: expected 1 fields, saw 2\\nSkipping line 30247: expected 1 fields, saw 2\\nSkipping line 30266: expected 1 fields, saw 2\\nSkipping line 30277: expected 1 fields, saw 2\\nSkipping line 30282: expected 1 fields, saw 2\\nSkipping line 30283: expected 1 fields, saw 2\\nSkipping line 30284: expected 1 fields, saw 3\\nSkipping line 30286: expected 1 fields, saw 2\\nSkipping line 30302: expected 1 fields, saw 4\\nSkipping line 30308: expected 1 fields, saw 2\\nSkipping line 30315: expected 1 fields, saw 2\\nSkipping line 30342: expected 1 fields, saw 2\\nSkipping line 30346: expected 1 fields, saw 3\\nSkipping line 30354: expected 1 fields, saw 2\\nSkipping line 30357: expected 1 fields, saw 2\\nSkipping line 30358: expected 1 fields, saw 2\\nSkipping line 30392: expected 1 fields, saw 2\\nSkipping line 30400: expected 1 fields, saw 2\\nSkipping line 30401: expected 1 fields, saw 2\\nSkipping line 30439: expected 1 fields, saw 2\\nSkipping line 30478: expected 1 fields, saw 2\\nSkipping line 30488: expected 1 fields, saw 2\\nSkipping line 30512: expected 1 fields, saw 2\\nSkipping line 30522: expected 1 fields, saw 2\\nSkipping line 30556: expected 1 fields, saw 3\\nSkipping line 30557: expected 1 fields, saw 2\\nSkipping line 30565: expected 1 fields, saw 3\\nSkipping line 30599: expected 1 fields, saw 2\\nSkipping line 30600: expected 1 fields, saw 2\\nSkipping line 30624: expected 1 fields, saw 2\\nSkipping line 30630: expected 1 fields, saw 2\\nSkipping line 30639: expected 1 fields, saw 3\\nSkipping line 30647: expected 1 fields, saw 2\\nSkipping line 30650: expected 1 fields, saw 2\\nSkipping line 30658: expected 1 fields, saw 3\\nSkipping line 30660: expected 1 fields, saw 2\\nSkipping line 30663: expected 1 fields, saw 3\\nSkipping line 30675: expected 1 fields, saw 3\\nSkipping line 30684: expected 1 fields, saw 2\\nSkipping line 30689: expected 1 fields, saw 2\\nSkipping line 30691: expected 1 fields, saw 2\\nSkipping line 30704: expected 1 fields, saw 2\\nSkipping line 30712: expected 1 fields, saw 2\\nSkipping line 30721: expected 1 fields, saw 2\\nSkipping line 30722: expected 1 fields, saw 2\\nSkipping line 30728: expected 1 fields, saw 2\\nSkipping line 30740: expected 1 fields, saw 2\\nSkipping line 30752: expected 1 fields, saw 2\\nSkipping line 30767: expected 1 fields, saw 2\\nSkipping line 30768: expected 1 fields, saw 2\\nSkipping line 30790: expected 1 fields, saw 2\\nSkipping line 30793: expected 1 fields, saw 2\\nSkipping line 30837: expected 1 fields, saw 2\\nSkipping line 30867: expected 1 fields, saw 3\\nSkipping line 30868: expected 1 fields, saw 2\\nSkipping line 30869: expected 1 fields, saw 3\\nSkipping line 30885: expected 1 fields, saw 2\\nSkipping line 30889: expected 1 fields, saw 4\\nSkipping line 30905: expected 1 fields, saw 2\\nSkipping line 30908: expected 1 fields, saw 2\\nSkipping line 30938: expected 1 fields, saw 2\\nSkipping line 30945: expected 1 fields, saw 2\\nSkipping line 30966: expected 1 fields, saw 3\\nSkipping line 30969: expected 1 fields, saw 2\\nSkipping line 30977: expected 1 fields, saw 2\\nSkipping line 30981: expected 1 fields, saw 2\\nSkipping line 31004: expected 1 fields, saw 2\\nSkipping line 31031: expected 1 fields, saw 2\\nSkipping line 31040: expected 1 fields, saw 4\\nSkipping line 31043: expected 1 fields, saw 2\\nSkipping line 31050: expected 1 fields, saw 3\\nSkipping line 31061: expected 1 fields, saw 3\\nSkipping line 31083: expected 1 fields, saw 2\\nSkipping line 31089: expected 1 fields, saw 2\\nSkipping line 31128: expected 1 fields, saw 2\\nSkipping line 31191: expected 1 fields, saw 2\\nSkipping line 31194: expected 1 fields, saw 2\\nSkipping line 31198: expected 1 fields, saw 2\\nSkipping line 31214: expected 1 fields, saw 2\\nSkipping line 31228: expected 1 fields, saw 3\\nSkipping line 31236: expected 1 fields, saw 2\\nSkipping line 31238: expected 1 fields, saw 3\\nSkipping line 31245: expected 1 fields, saw 2\\nSkipping line 31247: expected 1 fields, saw 2\\nSkipping line 31253: expected 1 fields, saw 2\\nSkipping line 31261: expected 1 fields, saw 3\\nSkipping line 31277: expected 1 fields, saw 3\\nSkipping line 31293: expected 1 fields, saw 2\\nSkipping line 31307: expected 1 fields, saw 2\\nSkipping line 31324: expected 1 fields, saw 4\\nSkipping line 31340: expected 1 fields, saw 2\\nSkipping line 31341: expected 1 fields, saw 2\\nSkipping line 31419: expected 1 fields, saw 2\\nSkipping line 31421: expected 1 fields, saw 7\\nSkipping line 31425: expected 1 fields, saw 2\\nSkipping line 31434: expected 1 fields, saw 5\\nSkipping line 31469: expected 1 fields, saw 3\\nSkipping line 31490: expected 1 fields, saw 3\\nSkipping line 31492: expected 1 fields, saw 2\\nSkipping line 31502: expected 1 fields, saw 2\\nSkipping line 31504: expected 1 fields, saw 2\\nSkipping line 31507: expected 1 fields, saw 2\\nSkipping line 31532: expected 1 fields, saw 2\\nSkipping line 31543: expected 1 fields, saw 2\\nSkipping line 31550: expected 1 fields, saw 2\\nSkipping line 31558: expected 1 fields, saw 2\\nSkipping line 31566: expected 1 fields, saw 2\\nSkipping line 31589: expected 1 fields, saw 3\\nSkipping line 31590: expected 1 fields, saw 2\\nSkipping line 31591: expected 1 fields, saw 4\\nSkipping line 31605: expected 1 fields, saw 3\\nSkipping line 31618: expected 1 fields, saw 2\\nSkipping line 31652: expected 1 fields, saw 2\\nSkipping line 31655: expected 1 fields, saw 2\\nSkipping line 31675: expected 1 fields, saw 2\\nSkipping line 31677: expected 1 fields, saw 2\\nSkipping line 31678: expected 1 fields, saw 3\\nSkipping line 31691: expected 1 fields, saw 4\\nSkipping line 31707: expected 1 fields, saw 3\\nSkipping line 31709: expected 1 fields, saw 2\\nSkipping line 31733: expected 1 fields, saw 3\\nSkipping line 31785: expected 1 fields, saw 3\\nSkipping line 31844: expected 1 fields, saw 3\\nSkipping line 31864: expected 1 fields, saw 5\\nSkipping line 31891: expected 1 fields, saw 2\\nSkipping line 31909: expected 1 fields, saw 2\\nSkipping line 31930: expected 1 fields, saw 2\\nSkipping line 31979: expected 1 fields, saw 2\\nSkipping line 31981: expected 1 fields, saw 2\\nSkipping line 31983: expected 1 fields, saw 2\\nSkipping line 32008: expected 1 fields, saw 2\\nSkipping line 32018: expected 1 fields, saw 2\\nSkipping line 32025: expected 1 fields, saw 2\\nSkipping line 32034: expected 1 fields, saw 2\\nSkipping line 32037: expected 1 fields, saw 2\\nSkipping line 32054: expected 1 fields, saw 2\\nSkipping line 32060: expected 1 fields, saw 2\\nSkipping line 32073: expected 1 fields, saw 2\\nSkipping line 32099: expected 1 fields, saw 2\\nSkipping line 32103: expected 1 fields, saw 3\\nSkipping line 32109: expected 1 fields, saw 2\\nSkipping line 32112: expected 1 fields, saw 3\\nSkipping line 32117: expected 1 fields, saw 2\\nSkipping line 32145: expected 1 fields, saw 2\\nSkipping line 32156: expected 1 fields, saw 2\\nSkipping line 32186: expected 1 fields, saw 2\\nSkipping line 32214: expected 1 fields, saw 2\\nSkipping line 32226: expected 1 fields, saw 2\\nSkipping line 32248: expected 1 fields, saw 2\\nSkipping line 32260: expected 1 fields, saw 2\\nSkipping line 32277: expected 1 fields, saw 2\\nSkipping line 32278: expected 1 fields, saw 3\\nSkipping line 32303: expected 1 fields, saw 2\\nSkipping line 32317: expected 1 fields, saw 2\\nSkipping line 32328: expected 1 fields, saw 2\\nSkipping line 32331: expected 1 fields, saw 2\\nSkipping line 32389: expected 1 fields, saw 2\\nSkipping line 32452: expected 1 fields, saw 2\\nSkipping line 32474: expected 1 fields, saw 3\\nSkipping line 32553: expected 1 fields, saw 2\\nSkipping line 32564: expected 1 fields, saw 3\\nSkipping line 32608: expected 1 fields, saw 3\\nSkipping line 32610: expected 1 fields, saw 2\\nSkipping line 32638: expected 1 fields, saw 2\\nSkipping line 32650: expected 1 fields, saw 2\\nSkipping line 32659: expected 1 fields, saw 3\\nSkipping line 32672: expected 1 fields, saw 2\\nSkipping line 32677: expected 1 fields, saw 2\\nSkipping line 32681: expected 1 fields, saw 2\\nSkipping line 32717: expected 1 fields, saw 3\\nSkipping line 32718: expected 1 fields, saw 2\\nSkipping line 32747: expected 1 fields, saw 2\\nSkipping line 32752: expected 1 fields, saw 2\\nSkipping line 32779: expected 1 fields, saw 3\\nSkipping line 32786: expected 1 fields, saw 2\\nSkipping line 32791: expected 1 fields, saw 2\\nSkipping line 32804: expected 1 fields, saw 2\\nSkipping line 32806: expected 1 fields, saw 3\\nSkipping line 32808: expected 1 fields, saw 3\\nSkipping line 32823: expected 1 fields, saw 8\\nSkipping line 32833: expected 1 fields, saw 2\\nSkipping line 32877: expected 1 fields, saw 2\\nSkipping line 32891: expected 1 fields, saw 2\\nSkipping line 32909: expected 1 fields, saw 3\\nSkipping line 32913: expected 1 fields, saw 2\\nSkipping line 32944: expected 1 fields, saw 2\\nSkipping line 32953: expected 1 fields, saw 2\\nSkipping line 32970: expected 1 fields, saw 2\\nSkipping line 32997: expected 1 fields, saw 2\\nSkipping line 32999: expected 1 fields, saw 2\\nSkipping line 33047: expected 1 fields, saw 2\\nSkipping line 33065: expected 1 fields, saw 2\\nSkipping line 33093: expected 1 fields, saw 2\\nSkipping line 33095: expected 1 fields, saw 2\\nSkipping line 33127: expected 1 fields, saw 2\\nSkipping line 33140: expected 1 fields, saw 2\\nSkipping line 33142: expected 1 fields, saw 2\\nSkipping line 33151: expected 1 fields, saw 2\\nSkipping line 33178: expected 1 fields, saw 2\\nSkipping line 33181: expected 1 fields, saw 2\\nSkipping line 33201: expected 1 fields, saw 3\\nSkipping line 33207: expected 1 fields, saw 2\\nSkipping line 33220: expected 1 fields, saw 2\\nSkipping line 33288: expected 1 fields, saw 2\\nSkipping line 33289: expected 1 fields, saw 2\\nSkipping line 33300: expected 1 fields, saw 2\\nSkipping line 33305: expected 1 fields, saw 2\\nSkipping line 33311: expected 1 fields, saw 2\\nSkipping line 33323: expected 1 fields, saw 2\\nSkipping line 33372: expected 1 fields, saw 2\\nSkipping line 33397: expected 1 fields, saw 2\\nSkipping line 33400: expected 1 fields, saw 2\\nSkipping line 33413: expected 1 fields, saw 2\\nSkipping line 33414: expected 1 fields, saw 2\\nSkipping line 33416: expected 1 fields, saw 2\\nSkipping line 33424: expected 1 fields, saw 3\\nSkipping line 33437: expected 1 fields, saw 4\\nSkipping line 33441: expected 1 fields, saw 2\\nSkipping line 33458: expected 1 fields, saw 2\\nSkipping line 33464: expected 1 fields, saw 2\\nSkipping line 33471: expected 1 fields, saw 2\\nSkipping line 33487: expected 1 fields, saw 5\\nSkipping line 33551: expected 1 fields, saw 3\\nSkipping line 33559: expected 1 fields, saw 2\\nSkipping line 33566: expected 1 fields, saw 2\\nSkipping line 33579: expected 1 fields, saw 3\\nSkipping line 33640: expected 1 fields, saw 2\\nSkipping line 33661: expected 1 fields, saw 2\\nSkipping line 33686: expected 1 fields, saw 2\\nSkipping line 33687: expected 1 fields, saw 3\\nSkipping line 33695: expected 1 fields, saw 2\\nSkipping line 33743: expected 1 fields, saw 2\\nSkipping line 33745: expected 1 fields, saw 2\\nSkipping line 33769: expected 1 fields, saw 2\\nSkipping line 33781: expected 1 fields, saw 2\\nSkipping line 33860: expected 1 fields, saw 2\\nSkipping line 33877: expected 1 fields, saw 2\\nSkipping line 33890: expected 1 fields, saw 2\\nSkipping line 33903: expected 1 fields, saw 2\\nSkipping line 33953: expected 1 fields, saw 2\\nSkipping line 33960: expected 1 fields, saw 2\\nSkipping line 33961: expected 1 fields, saw 2\\nSkipping line 34015: expected 1 fields, saw 3\\nSkipping line 34029: expected 1 fields, saw 3\\nSkipping line 34055: expected 1 fields, saw 2\\nSkipping line 34073: expected 1 fields, saw 3\\nSkipping line 34111: expected 1 fields, saw 3\\nSkipping line 34163: expected 1 fields, saw 2\\nSkipping line 34182: expected 1 fields, saw 3\\nSkipping line 34188: expected 1 fields, saw 2\\nSkipping line 34205: expected 1 fields, saw 2\\nSkipping line 34225: expected 1 fields, saw 2\\nSkipping line 34231: expected 1 fields, saw 2\\nSkipping line 34287: expected 1 fields, saw 2\\nSkipping line 34301: expected 1 fields, saw 2\\nSkipping line 34306: expected 1 fields, saw 3\\nSkipping line 34309: expected 1 fields, saw 2\\nSkipping line 34322: expected 1 fields, saw 2\\nSkipping line 34346: expected 1 fields, saw 2\\nSkipping line 34389: expected 1 fields, saw 2\\nSkipping line 34454: expected 1 fields, saw 2\\nSkipping line 34472: expected 1 fields, saw 2\\nSkipping line 34476: expected 1 fields, saw 2\\nSkipping line 34478: expected 1 fields, saw 2\\nSkipping line 34482: expected 1 fields, saw 2\\nSkipping line 34494: expected 1 fields, saw 2\\nSkipping line 34514: expected 1 fields, saw 2\\nSkipping line 34517: expected 1 fields, saw 2\\nSkipping line 34522: expected 1 fields, saw 5\\nSkipping line 34556: expected 1 fields, saw 3\\nSkipping line 34568: expected 1 fields, saw 2\\nSkipping line 34586: expected 1 fields, saw 3\\nSkipping line 34587: expected 1 fields, saw 2\\nSkipping line 34588: expected 1 fields, saw 2\\nSkipping line 34619: expected 1 fields, saw 3\\nSkipping line 34635: expected 1 fields, saw 3\\nSkipping line 34641: expected 1 fields, saw 3\\nSkipping line 34655: expected 1 fields, saw 3\\nSkipping line 34680: expected 1 fields, saw 2\\nSkipping line 34687: expected 1 fields, saw 2\\nSkipping line 34706: expected 1 fields, saw 3\\nSkipping line 34739: expected 1 fields, saw 3\\nSkipping line 34740: expected 1 fields, saw 3\\nSkipping line 34741: expected 1 fields, saw 2\\nSkipping line 34754: expected 1 fields, saw 2\\nSkipping line 34819: expected 1 fields, saw 2\\nSkipping line 34825: expected 1 fields, saw 2\\nSkipping line 34843: expected 1 fields, saw 2\\nSkipping line 34845: expected 1 fields, saw 2\\nSkipping line 34880: expected 1 fields, saw 2\\nSkipping line 34886: expected 1 fields, saw 2\\nSkipping line 34926: expected 1 fields, saw 2\\nSkipping line 34931: expected 1 fields, saw 3\\nSkipping line 34939: expected 1 fields, saw 3\\nSkipping line 34940: expected 1 fields, saw 2\\nSkipping line 34958: expected 1 fields, saw 2\\nSkipping line 34976: expected 1 fields, saw 3\\nSkipping line 34980: expected 1 fields, saw 3\\nSkipping line 34985: expected 1 fields, saw 3\\nSkipping line 34990: expected 1 fields, saw 2\\n'\n"
     ]
    },
    {
     "data": {
      "text/html": [
       "<div>\n",
       "<style scoped>\n",
       "    .dataframe tbody tr th:only-of-type {\n",
       "        vertical-align: middle;\n",
       "    }\n",
       "\n",
       "    .dataframe tbody tr th {\n",
       "        vertical-align: top;\n",
       "    }\n",
       "\n",
       "    .dataframe thead th {\n",
       "        text-align: right;\n",
       "    }\n",
       "</style>\n",
       "<table border=\"1\" class=\"dataframe\">\n",
       "  <thead>\n",
       "    <tr style=\"text-align: right;\">\n",
       "      <th></th>\n",
       "      <th>0</th>\n",
       "    </tr>\n",
       "  </thead>\n",
       "  <tbody>\n",
       "    <tr>\n",
       "      <th>0</th>\n",
       "      <td>_label_dialogue _label_heist What does the lin...</td>\n",
       "    </tr>\n",
       "    <tr>\n",
       "      <th>1</th>\n",
       "      <td>_label_star-wars _label_return-of-the-jedi Why...</td>\n",
       "    </tr>\n",
       "    <tr>\n",
       "      <th>2</th>\n",
       "      <td>_label_plot-explanation _label_district-9 Why ...</td>\n",
       "    </tr>\n",
       "    <tr>\n",
       "      <th>3</th>\n",
       "      <td>_label_parasite What is the significance of th...</td>\n",
       "    </tr>\n",
       "    <tr>\n",
       "      <th>4</th>\n",
       "      <td>_label_the-shining Are the twins from The Shin...</td>\n",
       "    </tr>\n",
       "    <tr>\n",
       "      <th>5</th>\n",
       "      <td>_label_plot-explanation _label_character _labe...</td>\n",
       "    </tr>\n",
       "    <tr>\n",
       "      <th>6</th>\n",
       "      <td>_label_plot-explanation _label_constantine Que...</td>\n",
       "    </tr>\n",
       "    <tr>\n",
       "      <th>7</th>\n",
       "      <td>_label_1983 What year is 1983 set?</td>\n",
       "    </tr>\n",
       "    <tr>\n",
       "      <th>8</th>\n",
       "      <td>_label_suits How old is Sheila Sazs supposed t...</td>\n",
       "    </tr>\n",
       "    <tr>\n",
       "      <th>9</th>\n",
       "      <td>_label_plot-explanation _label_character _labe...</td>\n",
       "    </tr>\n",
       "    <tr>\n",
       "      <th>10</th>\n",
       "      <td>_label_the-lord-of-the-rings _label_dubbing _l...</td>\n",
       "    </tr>\n",
       "    <tr>\n",
       "      <th>11</th>\n",
       "      <td>_label_ending _label_dark Does Dark have an en...</td>\n",
       "    </tr>\n",
       "    <tr>\n",
       "      <th>12</th>\n",
       "      <td>_label_reference _label_harry-potter _label_do...</td>\n",
       "    </tr>\n",
       "    <tr>\n",
       "      <th>13</th>\n",
       "      <td>_label_horror Does tolerance for horror and vi...</td>\n",
       "    </tr>\n",
       "    <tr>\n",
       "      <th>14</th>\n",
       "      <td>_label_plot-explanation _label_willy-wonka-and...</td>\n",
       "    </tr>\n",
       "    <tr>\n",
       "      <th>15</th>\n",
       "      <td>_label_inside-llewyn-davis Was the physical re...</td>\n",
       "    </tr>\n",
       "    <tr>\n",
       "      <th>16</th>\n",
       "      <td>_label_plot-explanation _label_all-light-will-...</td>\n",
       "    </tr>\n",
       "    <tr>\n",
       "      <th>17</th>\n",
       "      <td>_label_soundtrack _label_alexander What did Va...</td>\n",
       "    </tr>\n",
       "    <tr>\n",
       "      <th>18</th>\n",
       "      <td>_label_star-wars _label_rogue-one Why did the ...</td>\n",
       "    </tr>\n",
       "    <tr>\n",
       "      <th>19</th>\n",
       "      <td>_label_cinema-history _label_disney _label_mar...</td>\n",
       "    </tr>\n",
       "    <tr>\n",
       "      <th>20</th>\n",
       "      <td>_label_realism _label_escape-from-alcatraz Wer...</td>\n",
       "    </tr>\n",
       "    <tr>\n",
       "      <th>21</th>\n",
       "      <td>_label_horror Movie Where Mother Chases Daught...</td>\n",
       "    </tr>\n",
       "    <tr>\n",
       "      <th>22</th>\n",
       "      <td>_label_star-trek _label_star-trek-voyager _lab...</td>\n",
       "    </tr>\n",
       "    <tr>\n",
       "      <th>23</th>\n",
       "      <td>_label_2.0 How did A. Subaskaran come forward ...</td>\n",
       "    </tr>\n",
       "    <tr>\n",
       "      <th>24</th>\n",
       "      <td>_label_survivor Have people promised juror votes?</td>\n",
       "    </tr>\n",
       "    <tr>\n",
       "      <th>25</th>\n",
       "      <td>_label_dialogue _label_the-princess-bride What...</td>\n",
       "    </tr>\n",
       "    <tr>\n",
       "      <th>26</th>\n",
       "      <td>_label_the-lord-of-the-rings How Does Gandalf ...</td>\n",
       "    </tr>\n",
       "    <tr>\n",
       "      <th>27</th>\n",
       "      <td>_label_watchmen _label_watchmen-tv Is the “Wat...</td>\n",
       "    </tr>\n",
       "    <tr>\n",
       "      <th>28</th>\n",
       "      <td>_label_realism _label_the-witch What is the na...</td>\n",
       "    </tr>\n",
       "    <tr>\n",
       "      <th>29</th>\n",
       "      <td>_label_realism _label_the-witch Can corns be g...</td>\n",
       "    </tr>\n",
       "    <tr>\n",
       "      <th>...</th>\n",
       "      <td>...</td>\n",
       "    </tr>\n",
       "    <tr>\n",
       "      <th>32776</th>\n",
       "      <td>_label_theory _label_notation _label_sheet-mus...</td>\n",
       "    </tr>\n",
       "    <tr>\n",
       "      <th>32777</th>\n",
       "      <td>_label_fingering _label_soprano-recorder F on ...</td>\n",
       "    </tr>\n",
       "    <tr>\n",
       "      <th>32778</th>\n",
       "      <td>_label_piano _label_practice _label_octave Fas...</td>\n",
       "    </tr>\n",
       "    <tr>\n",
       "      <th>32779</th>\n",
       "      <td>_label_violin _label_teaching Should fingerboa...</td>\n",
       "    </tr>\n",
       "    <tr>\n",
       "      <th>32780</th>\n",
       "      <td>_label_performing _label_stage-fright What are...</td>\n",
       "    </tr>\n",
       "    <tr>\n",
       "      <th>32781</th>\n",
       "      <td>_label_learning _label_software _label_flute _...</td>\n",
       "    </tr>\n",
       "    <tr>\n",
       "      <th>32782</th>\n",
       "      <td>_label_learning _label_flute How do I find a f...</td>\n",
       "    </tr>\n",
       "    <tr>\n",
       "      <th>32783</th>\n",
       "      <td>_label_learning _label_exercises _label_ear-tr...</td>\n",
       "    </tr>\n",
       "    <tr>\n",
       "      <th>32784</th>\n",
       "      <td>_label_violin _label_learning What is the righ...</td>\n",
       "    </tr>\n",
       "    <tr>\n",
       "      <th>32785</th>\n",
       "      <td>_label_technique _label_practice _label_saxoph...</td>\n",
       "    </tr>\n",
       "    <tr>\n",
       "      <th>32786</th>\n",
       "      <td>_label_theory _label_accidentals Purpose of do...</td>\n",
       "    </tr>\n",
       "    <tr>\n",
       "      <th>32787</th>\n",
       "      <td>_label_piano _label_composition _label_reperto...</td>\n",
       "    </tr>\n",
       "    <tr>\n",
       "      <th>32788</th>\n",
       "      <td>_label_technique _label_violin _label_bow What...</td>\n",
       "    </tr>\n",
       "    <tr>\n",
       "      <th>32789</th>\n",
       "      <td>_label_technique _label_drums _label_stick-con...</td>\n",
       "    </tr>\n",
       "    <tr>\n",
       "      <th>32790</th>\n",
       "      <td>_label_technique _label_practice _label_voice ...</td>\n",
       "    </tr>\n",
       "    <tr>\n",
       "      <th>32791</th>\n",
       "      <td>_label_technique _label_rhythm _label_performi...</td>\n",
       "    </tr>\n",
       "    <tr>\n",
       "      <th>32792</th>\n",
       "      <td>_label_tuning _label_j-s-bach _label_alternati...</td>\n",
       "    </tr>\n",
       "    <tr>\n",
       "      <th>32793</th>\n",
       "      <td>_label_piano _label_technique _label_dynamics ...</td>\n",
       "    </tr>\n",
       "    <tr>\n",
       "      <th>32794</th>\n",
       "      <td>_label_learning _label_piano Beginning “adult”...</td>\n",
       "    </tr>\n",
       "    <tr>\n",
       "      <th>32795</th>\n",
       "      <td>_label_theory _label_transcription How to tran...</td>\n",
       "    </tr>\n",
       "    <tr>\n",
       "      <th>32796</th>\n",
       "      <td>_label_conducting _label_rehearsal _label_prac...</td>\n",
       "    </tr>\n",
       "    <tr>\n",
       "      <th>32797</th>\n",
       "      <td>_label_theory _label_scales Why are there twel...</td>\n",
       "    </tr>\n",
       "    <tr>\n",
       "      <th>32798</th>\n",
       "      <td>_label_repertoire How Should I Learn A Collect...</td>\n",
       "    </tr>\n",
       "    <tr>\n",
       "      <th>32799</th>\n",
       "      <td>_label_voice _label_breathing _label_technique...</td>\n",
       "    </tr>\n",
       "    <tr>\n",
       "      <th>32800</th>\n",
       "      <td>_label_theory _label_chord-progressions Does t...</td>\n",
       "    </tr>\n",
       "    <tr>\n",
       "      <th>32801</th>\n",
       "      <td>_label_piano _label_tuning How long would it t...</td>\n",
       "    </tr>\n",
       "    <tr>\n",
       "      <th>32802</th>\n",
       "      <td>_label_piano _label_sheet-music Quickly flip a...</td>\n",
       "    </tr>\n",
       "    <tr>\n",
       "      <th>32803</th>\n",
       "      <td>_label_theory _label_piano _label_chords How t...</td>\n",
       "    </tr>\n",
       "    <tr>\n",
       "      <th>32804</th>\n",
       "      <td>_label_piano _label_technique _label_scales _l...</td>\n",
       "    </tr>\n",
       "    <tr>\n",
       "      <th>32805</th>\n",
       "      <td>_label_scales _label_ethnomusicology Why do mi...</td>\n",
       "    </tr>\n",
       "  </tbody>\n",
       "</table>\n",
       "<p>32806 rows × 1 columns</p>\n",
       "</div>"
      ],
      "text/plain": [
       "                                                       0\n",
       "0      _label_dialogue _label_heist What does the lin...\n",
       "1      _label_star-wars _label_return-of-the-jedi Why...\n",
       "2      _label_plot-explanation _label_district-9 Why ...\n",
       "3      _label_parasite What is the significance of th...\n",
       "4      _label_the-shining Are the twins from The Shin...\n",
       "5      _label_plot-explanation _label_character _labe...\n",
       "6      _label_plot-explanation _label_constantine Que...\n",
       "7                     _label_1983 What year is 1983 set?\n",
       "8      _label_suits How old is Sheila Sazs supposed t...\n",
       "9      _label_plot-explanation _label_character _labe...\n",
       "10     _label_the-lord-of-the-rings _label_dubbing _l...\n",
       "11     _label_ending _label_dark Does Dark have an en...\n",
       "12     _label_reference _label_harry-potter _label_do...\n",
       "13     _label_horror Does tolerance for horror and vi...\n",
       "14     _label_plot-explanation _label_willy-wonka-and...\n",
       "15     _label_inside-llewyn-davis Was the physical re...\n",
       "16     _label_plot-explanation _label_all-light-will-...\n",
       "17     _label_soundtrack _label_alexander What did Va...\n",
       "18     _label_star-wars _label_rogue-one Why did the ...\n",
       "19     _label_cinema-history _label_disney _label_mar...\n",
       "20     _label_realism _label_escape-from-alcatraz Wer...\n",
       "21     _label_horror Movie Where Mother Chases Daught...\n",
       "22     _label_star-trek _label_star-trek-voyager _lab...\n",
       "23     _label_2.0 How did A. Subaskaran come forward ...\n",
       "24     _label_survivor Have people promised juror votes?\n",
       "25     _label_dialogue _label_the-princess-bride What...\n",
       "26     _label_the-lord-of-the-rings How Does Gandalf ...\n",
       "27     _label_watchmen _label_watchmen-tv Is the “Wat...\n",
       "28     _label_realism _label_the-witch What is the na...\n",
       "29     _label_realism _label_the-witch Can corns be g...\n",
       "...                                                  ...\n",
       "32776  _label_theory _label_notation _label_sheet-mus...\n",
       "32777  _label_fingering _label_soprano-recorder F on ...\n",
       "32778  _label_piano _label_practice _label_octave Fas...\n",
       "32779  _label_violin _label_teaching Should fingerboa...\n",
       "32780  _label_performing _label_stage-fright What are...\n",
       "32781  _label_learning _label_software _label_flute _...\n",
       "32782  _label_learning _label_flute How do I find a f...\n",
       "32783  _label_learning _label_exercises _label_ear-tr...\n",
       "32784  _label_violin _label_learning What is the righ...\n",
       "32785  _label_technique _label_practice _label_saxoph...\n",
       "32786  _label_theory _label_accidentals Purpose of do...\n",
       "32787  _label_piano _label_composition _label_reperto...\n",
       "32788  _label_technique _label_violin _label_bow What...\n",
       "32789  _label_technique _label_drums _label_stick-con...\n",
       "32790  _label_technique _label_practice _label_voice ...\n",
       "32791  _label_technique _label_rhythm _label_performi...\n",
       "32792  _label_tuning _label_j-s-bach _label_alternati...\n",
       "32793  _label_piano _label_technique _label_dynamics ...\n",
       "32794  _label_learning _label_piano Beginning “adult”...\n",
       "32795  _label_theory _label_transcription How to tran...\n",
       "32796  _label_conducting _label_rehearsal _label_prac...\n",
       "32797  _label_theory _label_scales Why are there twel...\n",
       "32798  _label_repertoire How Should I Learn A Collect...\n",
       "32799  _label_voice _label_breathing _label_technique...\n",
       "32800  _label_theory _label_chord-progressions Does t...\n",
       "32801  _label_piano _label_tuning How long would it t...\n",
       "32802  _label_piano _label_sheet-music Quickly flip a...\n",
       "32803  _label_theory _label_piano _label_chords How t...\n",
       "32804  _label_piano _label_technique _label_scales _l...\n",
       "32805  _label_scales _label_ethnomusicology Why do mi...\n",
       "\n",
       "[32806 rows x 1 columns]"
      ]
     },
     "execution_count": 53,
     "metadata": {},
     "output_type": "execute_result"
    }
   ],
   "source": [
    "data = pd.read_csv(r\"C:\\Users\\sai\\Untitled Folder 3\\Music_Movies.txt\",error_bad_lines = False, header = None)\n",
    "data"
   ]
  },
  {
   "cell_type": "code",
   "execution_count": 54,
   "metadata": {},
   "outputs": [
    {
     "name": "stdout",
     "output_type": "stream",
     "text": [
      "Total label count is : 75053\n"
     ]
    }
   ],
   "source": [
    "tags = data[0].str.count(\"_label_\")\n",
    "print( 'Total label count is :',data[0].str.count(\"_label_\").sum())"
   ]
  },
  {
   "cell_type": "code",
   "execution_count": 55,
   "metadata": {},
   "outputs": [
    {
     "data": {
      "text/plain": [
       "0        2\n",
       "1        2\n",
       "2        2\n",
       "3        1\n",
       "4        1\n",
       "5        4\n",
       "6        2\n",
       "7        1\n",
       "8        1\n",
       "9        3\n",
       "10       3\n",
       "11       2\n",
       "12       3\n",
       "13       1\n",
       "14       2\n",
       "15       1\n",
       "16       2\n",
       "17       2\n",
       "18       2\n",
       "19       3\n",
       "20       2\n",
       "21       1\n",
       "22       3\n",
       "23       1\n",
       "24       1\n",
       "25       2\n",
       "26       1\n",
       "27       2\n",
       "28       2\n",
       "29       2\n",
       "        ..\n",
       "32776    5\n",
       "32777    2\n",
       "32778    3\n",
       "32779    2\n",
       "32780    2\n",
       "32781    4\n",
       "32782    2\n",
       "32783    3\n",
       "32784    2\n",
       "32785    3\n",
       "32786    2\n",
       "32787    5\n",
       "32788    3\n",
       "32789    3\n",
       "32790    3\n",
       "32791    3\n",
       "32792    5\n",
       "32793    3\n",
       "32794    2\n",
       "32795    2\n",
       "32796    3\n",
       "32797    2\n",
       "32798    1\n",
       "32799    4\n",
       "32800    2\n",
       "32801    2\n",
       "32802    2\n",
       "32803    3\n",
       "32804    4\n",
       "32805    2\n",
       "Name: 0, Length: 32806, dtype: int64"
      ]
     },
     "execution_count": 55,
     "metadata": {},
     "output_type": "execute_result"
    }
   ],
   "source": [
    "tags"
   ]
  },
  {
   "cell_type": "code",
   "execution_count": 60,
   "metadata": {},
   "outputs": [
    {
     "data": {
      "image/png": "[encoded data removed]",
      "text/plain": [
       "<Figure size 432x288 with 1 Axes>"
      ]
     },
     "metadata": {
      "needs_background": "light"
     },
     "output_type": "display_data"
    }
   ],
   "source": [
    "x =tags\n",
    "plt.hist(x, bins=10,  color = 'b')\n",
    "plt.xlabel('No of labels')\n",
    "plt.ylabel('count of labels per text')\n",
    "plt.legend(['labels'], loc='best')\n",
    "plt.show()"
   ]
  },
  {
   "cell_type": "code",
   "execution_count": null,
   "metadata": {},
   "outputs": [],
   "source": []
  }
 ],
 "metadata": {
  "kernelspec": {
   "display_name": "Python 3",
   "language": "python",
   "name": "python3"
  },
  "language_info": {
   "codemirror_mode": {
    "name": "ipython",
    "version": 3
   },
   "file_extension": ".py",
   "mimetype": "text/x-python",
   "name": "python",
   "nbconvert_exporter": "python",
   "pygments_lexer": "ipython3",
   "version": "3.7.3"
  }
 },
 "nbformat": 4,
 "nbformat_minor": 2
}
