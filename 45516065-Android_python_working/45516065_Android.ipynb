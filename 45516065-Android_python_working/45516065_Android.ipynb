{
 "cells": [
  {
   "cell_type": "code",
   "execution_count": null,
   "metadata": {},
   "outputs": [],
   "source": [
    "import bs4\n",
    "from urllib.request import urlopen as ureq\n",
    "from bs4 import BeautifulSoup as Soup"
   ]
  },
  {
   "cell_type": "code",
   "execution_count": null,
   "metadata": {},
   "outputs": [],
   "source": [
    "def Extract(raj):\n",
    "    f = open(\"Android.txt\", \"a+\", encoding = \"utf-8\")\n",
    "    for c in raj:\n",
    "        question_summary = c.a.text\n",
    "        tags = []\n",
    "        question_tags = c.findAll(\"div\", {\"class\":\"tags\"})\n",
    "        tagies = question_tags[0].findAll(\"a\")\n",
    "        for i in range(0,len(tagies)):\n",
    "            tags.append(tagies[i].text)\n",
    "            f.write(\"_label_\"+tags[i]+\" \")\n",
    "        f.write(question_summary+\"\\n\")\n",
    "    f.close()"
   ]
  },
  {
   "cell_type": "code",
   "execution_count": 8,
   "metadata": {},
   "outputs": [],
   "source": [
    "import pandas as pd\n",
    "tag_count = []"
   ]
  },
  {
   "cell_type": "code",
   "execution_count": 3,
   "metadata": {},
   "outputs": [],
   "source": [
    "def data(i):\n",
    "    my_url = \"https://android.stackexchange.com/questions?tab=newest&page=\"+str(i)+\"&pagesize=50\"\n",
    "    uclient = ureq(my_url) # opens up the connection grabs the web page and stores in a variable\n",
    "    page_html = uclient.read()\n",
    "    uclient.close()\n",
    "    page_soup = Soup(page_html, \"html.parser\")\n",
    "    containers = page_soup.findAll(\"div\", {\"class\":\"question-summary\"})\n",
    "    raj = containers[0:50]\n",
    "    Extract(raj)"
   ]
  },
  {
   "cell_type": "code",
   "execution_count": null,
   "metadata": {},
   "outputs": [],
   "source": [
    "for i in range(805,1004):\n",
    "    data(i)\n",
    "    if((i%200)==0):\n",
    "        time.sleep(60)\n",
    "len(tag_count)"
   ]
  },
  {
   "cell_type": "code",
   "execution_count": null,
   "metadata": {},
   "outputs": [],
   "source": [
    "for i in range(1,200):\n",
    "    data(i)\n",
    "len(tag_count)"
   ]
  },
  {
   "cell_type": "code",
   "execution_count": null,
   "metadata": {},
   "outputs": [],
   "source": [
    "for i in range(603,804):\n",
    "    data(i)\n",
    "len(tag_count)"
   ]
  },
  {
   "cell_type": "code",
   "execution_count": null,
   "metadata": {},
   "outputs": [],
   "source": [
    "for i in range(805,1025):\n",
    "    data(i)\n",
    "len(tag_count)"
   ]
  },
  {
   "cell_type": "code",
   "execution_count": null,
   "metadata": {},
   "outputs": [],
   "source": [
    "import pandas as pd\n",
    "data = pd.read_csv('android.txt',error_bad_lines=False,header = None)\n",
    "data"
   ]
  },
  {
   "cell_type": "code",
   "execution_count": null,
   "metadata": {},
   "outputs": [],
   "source": [
    "label_data = data[0].str.count(\"_label_\")\n",
    "print('Total label count is:',data[0].str.count(\"_label_\").sum())"
   ]
  },
  {
   "cell_type": "code",
   "execution_count": null,
   "metadata": {},
   "outputs": [],
   "source": [
    "import matplotlib.pyplot as plt\n",
    "plt.hist(label_data, alpha=0.5, color = 'green', label='labels')\n",
    "plt.xlabel('Number of labels')\n",
    "plt.ylabel('Count of labels')\n",
    "plt.legend(loc='upper right')\n",
    "plt.show()"
   ]
  },
  {
   "cell_type": "code",
   "execution_count": null,
   "metadata": {},
   "outputs": [],
   "source": []
  }
 ],
 "metadata": {
  "kernelspec": {
   "display_name": "Python 3",
   "language": "python",
   "name": "python3"
  },
  "language_info": {
   "codemirror_mode": {
    "name": "ipython",
    "version": 3
   },
   "file_extension": ".py",
   "mimetype": "text/x-python",
   "name": "python",
   "nbconvert_exporter": "python",
   "pygments_lexer": "ipython3",
   "version": "3.7.3"
  }
 },
 "nbformat": 4,
 "nbformat_minor": 2
}
